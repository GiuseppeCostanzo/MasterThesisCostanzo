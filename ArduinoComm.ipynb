{
 "cells": [
  {
   "cell_type": "code",
   "execution_count": 1,
   "id": "48651617",
   "metadata": {},
   "outputs": [],
   "source": [
    "# Library\n",
    "import serial  \n",
    "import json"
   ]
  },
  {
   "cell_type": "code",
   "execution_count": 2,
   "id": "41878753",
   "metadata": {},
   "outputs": [
    {
     "ename": "IndentationError",
     "evalue": "expected an indented block after 'with' statement on line 2 (414452370.py, line 3)",
     "output_type": "error",
     "traceback": [
      "\u001b[1;36m  Cell \u001b[1;32mIn[2], line 3\u001b[1;36m\u001b[0m\n\u001b[1;33m    Load the contents of the JSON file into a Python dictionary\u001b[0m\n\u001b[1;37m    ^\u001b[0m\n\u001b[1;31mIndentationError\u001b[0m\u001b[1;31m:\u001b[0m expected an indented block after 'with' statement on line 2\n"
     ]
    }
   ],
   "source": [
    "def mapping(val_1):\n",
    "    with open(\"config.json\", \"r\") as json_file:\n",
    "    #Load the contents of the JSON file into a Python dictionary\n",
    "        data = json.load(json_file)\n",
    "    \n",
    "    #Servo1\n",
    "    servo1 = data[\"Servo1\"]\n",
    "    start = servo1[\"range_from\"]\n",
    "    stop = servo1[\"range_to\"]\n",
    "    \n",
    "    if start==0:\n",
    "        return int((val_1/100)*stop)\n",
    "    else:\n",
    "        new_stop = stop - start\n",
    "        return int(((val_1/100)*new_stop)+start)  "
   ]
  },
  {
   "cell_type": "code",
   "execution_count": 3,
   "id": "25a1ee9b",
   "metadata": {},
   "outputs": [
    {
     "name": "stdout",
     "output_type": "stream",
     "text": [
      "Insert value (0-100): 0\n"
     ]
    },
    {
     "ename": "NameError",
     "evalue": "name 'mapping' is not defined",
     "output_type": "error",
     "traceback": [
      "\u001b[1;31m---------------------------------------------------------------------------\u001b[0m",
      "\u001b[1;31mNameError\u001b[0m                                 Traceback (most recent call last)",
      "Cell \u001b[1;32mIn[3], line 10\u001b[0m\n\u001b[0;32m      7\u001b[0m     \u001b[38;5;28mprint\u001b[39m(\u001b[38;5;124m\"\u001b[39m\u001b[38;5;124mInvalid value\u001b[39m\u001b[38;5;124m\"\u001b[39m)\n\u001b[0;32m      8\u001b[0m \u001b[38;5;28;01melse\u001b[39;00m:\n\u001b[0;32m      9\u001b[0m     \u001b[38;5;66;03m#print(mapping(command2))\u001b[39;00m\n\u001b[1;32m---> 10\u001b[0m     comm \u001b[38;5;241m=\u001b[39m \u001b[38;5;28mbytes\u001b[39m(\u001b[38;5;28mstr\u001b[39m(mapping(command)),\u001b[38;5;124m'\u001b[39m\u001b[38;5;124mutf-8\u001b[39m\u001b[38;5;124m'\u001b[39m)\n\u001b[0;32m     11\u001b[0m     arduino\u001b[38;5;241m.\u001b[39mwrite(comm)\n",
      "\u001b[1;31mNameError\u001b[0m: name 'mapping' is not defined"
     ]
    }
   ],
   "source": [
    "usbport = 'COM6'\n",
    "arduino = serial.Serial(usbport, baudrate=9600, timeout=.1)   \n",
    "while True: \n",
    "        #input utente (0-100)\n",
    "        command = int(input (\"Insert value (0-100): \"))\n",
    "        if(command<0 or command>100): \n",
    "            print(\"Invalid value\")\n",
    "        else:\n",
    "            #print(mapping(command2))\n",
    "            comm = bytes(str(mapping(command)),'utf-8')\n",
    "            arduino.write(comm)                          # write position to serial port\n",
    "            #reachedPos = str(arduino.readline())            # read serial port for arduino echo\n",
    "            #print (reachedPos)\n",
    "        "
   ]
  },
  {
   "cell_type": "code",
   "execution_count": null,
   "id": "881a37a3-b751-4682-b6b4-38e70d0c0d45",
   "metadata": {},
   "outputs": [],
   "source": []
  },
  {
   "cell_type": "code",
   "execution_count": null,
   "id": "1afe83ad-beb0-47ff-a8a3-422478c86328",
   "metadata": {},
   "outputs": [],
   "source": []
  },
  {
   "cell_type": "code",
   "execution_count": null,
   "id": "af01078e-f6ab-4cac-9342-305258863d76",
   "metadata": {},
   "outputs": [],
   "source": []
  },
  {
   "cell_type": "code",
   "execution_count": 4,
   "id": "16d43491-abbd-4ee9-b667-3412388cb519",
   "metadata": {},
   "outputs": [],
   "source": [
    "import json\n",
    "\n",
    "# File di configurazione\n",
    "config = {\n",
    "    \"Servo1\": {\n",
    "        \"range_from\": 50,\n",
    "        \"range_to\": 150\n",
    "    },\n",
    "    \"Servo2\": {\n",
    "        \"range_from\": 0,\n",
    "        \"range_to\": 120\n",
    "    }\n",
    "}\n",
    "\n",
    "# Apertura del file in modalità scrittura\n",
    "with open(\"config.json\", \"w\") as json_file:\n",
    "    # Scrivi i dati nel file JSON\n",
    "    json.dump(config, json_file)\n"
   ]
  },
  {
   "cell_type": "code",
   "execution_count": null,
   "id": "7876b3cb",
   "metadata": {},
   "outputs": [],
   "source": []
  }
 ],
 "metadata": {
  "kernelspec": {
   "display_name": "Python 3 (ipykernel)",
   "language": "python",
   "name": "python3"
  },
  "language_info": {
   "codemirror_mode": {
    "name": "ipython",
    "version": 3
   },
   "file_extension": ".py",
   "mimetype": "text/x-python",
   "name": "python",
   "nbconvert_exporter": "python",
   "pygments_lexer": "ipython3",
   "version": "3.11.4"
  }
 },
 "nbformat": 4,
 "nbformat_minor": 5
}
