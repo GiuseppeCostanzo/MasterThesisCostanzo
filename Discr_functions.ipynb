{
 "cells": [
  {
   "cell_type": "code",
   "execution_count": null,
   "id": "10eca4ec",
   "metadata": {},
   "outputs": [],
   "source": []
  },
  {
   "cell_type": "code",
   "execution_count": 55,
   "id": "7885630d",
   "metadata": {},
   "outputs": [],
   "source": [
    "# Ossservazioni: np.round() arrotonda al valore più vicino\n",
    "# np.zeros(shape, type) ritorna un array di zeri "
   ]
  },
  {
   "cell_type": "code",
   "execution_count": null,
   "id": "085d0050",
   "metadata": {},
   "outputs": [],
   "source": []
  },
  {
   "cell_type": "code",
   "execution_count": null,
   "id": "65c27ba3",
   "metadata": {},
   "outputs": [],
   "source": []
  },
  {
   "cell_type": "code",
   "execution_count": null,
   "id": "67fbedd5",
   "metadata": {},
   "outputs": [],
   "source": []
  },
  {
   "cell_type": "code",
   "execution_count": 90,
   "id": "91e818fc",
   "metadata": {},
   "outputs": [],
   "source": [
    "from abc import ABC, abstractmethod\n",
    "\n",
    "class Movement(ABC):\n",
    "    def __init__(self, startTime, endTime):\n",
    "        self.startTime = startTime\n",
    "        self.endTime = endTime\n",
    "        #L=(np.round((self.endTime-self.startTime)/deltaT)+1).astype(np.int64)\n",
    "        #self.DiscreteMov=None\n",
    "\n",
    "    @abstractmethod\n",
    "    def discretize(self):\n",
    "        pass\n",
    "\n",
    "# deltaT è un parametro non obbligatorio. Se non viene dato in input di default è 70\n",
    "class LinearMovement(Movement):\n",
    "    def __init__(self, startTime, endTime, fromPos, toPos, deltaT=None):\n",
    "        super().__init__(startTime, endTime)\n",
    "        self.fromPos = fromPos\n",
    "        self.toPos = toPos\n",
    "        if deltaT is not None:\n",
    "            self.deltaT = deltaT\n",
    "        else:\n",
    "            self.deltaT=80\n",
    "        \n",
    "    def discretize(self):\n",
    "        # Calcola il numero di intervalli discreti\n",
    "        L = int(np.round((self.endTime - self.startTime) / self.deltaT)) + 1\n",
    "\n",
    "        # Genera array di tempi discreti per il set corrente di parametri\n",
    "        tempi_discreti = (np.linspace(self.startTime, self.endTime, L)).astype(np.int64)\n",
    "\n",
    "        # Interpola le posizioni dei servomotori per il set corrente di parametri\n",
    "        posizioni_discrete = (np.linspace(self.fromPos[0], self.toPos[0], L)).astype(np.int64)\n",
    "\n",
    "        # Crea una matrice per memorizzare i valori discretizzati per il set corrente di parametri\n",
    "        matrice_discretizzata = np.vstack((posizioni_discrete, tempi_discreti))\n",
    "\n",
    "        # Interpola le posizioni dei servomotori per il set corrente di parametri\n",
    "        for i in range(1, 6):\n",
    "            nuove_posizioni = (np.linspace(self.fromPos[i], self.toPos[i], L)).astype(np.int64)\n",
    "\n",
    "            # Crea una matrice per memorizzare i valori discretizzati per il set corrente di parametri\n",
    "            matrice_discretizzata = np.vstack((nuove_posizioni,matrice_discretizzata))\n",
    "\n",
    "        return matrice_discretizzata.T"
   ]
  },
  {
   "cell_type": "code",
   "execution_count": 92,
   "id": "f4182c46",
   "metadata": {},
   "outputs": [],
   "source": [
    "a = LinearMovement(startTime=0,endTime=5000,fromPos=[10,10,10,10,10,10],toPos=[90,90,90,90,90,90],deltaT=65)"
   ]
  },
  {
   "cell_type": "code",
   "execution_count": 94,
   "id": "5496540f",
   "metadata": {},
   "outputs": [
    {
     "data": {
      "text/plain": [
       "numpy.ndarray"
      ]
     },
     "execution_count": 94,
     "metadata": {},
     "output_type": "execute_result"
    }
   ],
   "source": [
    "type(a.discretize())"
   ]
  },
  {
   "cell_type": "code",
   "execution_count": null,
   "id": "2eda8b31",
   "metadata": {},
   "outputs": [],
   "source": []
  },
  {
   "cell_type": "code",
   "execution_count": null,
   "id": "a93bbfd1",
   "metadata": {},
   "outputs": [],
   "source": []
  },
  {
   "cell_type": "code",
   "execution_count": null,
   "id": "7d68a19d",
   "metadata": {},
   "outputs": [],
   "source": []
  },
  {
   "cell_type": "code",
   "execution_count": null,
   "id": "4d6c5ed1",
   "metadata": {},
   "outputs": [],
   "source": []
  }
 ],
 "metadata": {
  "kernelspec": {
   "display_name": "Python 3 (ipykernel)",
   "language": "python",
   "name": "python3"
  },
  "language_info": {
   "codemirror_mode": {
    "name": "ipython",
    "version": 3
   },
   "file_extension": ".py",
   "mimetype": "text/x-python",
   "name": "python",
   "nbconvert_exporter": "python",
   "pygments_lexer": "ipython3",
   "version": "3.11.4"
  }
 },
 "nbformat": 4,
 "nbformat_minor": 5
}
