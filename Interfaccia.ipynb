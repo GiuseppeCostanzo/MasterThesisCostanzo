{
 "cells": [
  {
   "cell_type": "code",
   "execution_count": null,
   "id": "4c807a4d",
   "metadata": {},
   "outputs": [],
   "source": []
  },
  {
   "cell_type": "code",
   "execution_count": null,
   "id": "635684f0",
   "metadata": {},
   "outputs": [],
   "source": [
    "# Step: - \n",
    "# 1) Prendere in input i valori (nel range), trovare un formato e un modo per salvare in locale un singolo pacchetto.\n",
    "# Rileggere un valore, e inviarlo ad arduino.\n",
    "\n",
    "# 2) Trovare un modo per combinare più pacchetti per creare un movimento, salvare il tutto, e inviare un movimento intero ad\n",
    "# arduino (con i relativi problemi di ritardo) - eventualmente combinare più movimenti insieme\n",
    "\n",
    "# 3) A implementazione finita, creare una GUI finale (non testuale) da utilizzare per lo scopo"
   ]
  },
  {
   "cell_type": "code",
   "execution_count": 5,
   "id": "391cc8b6",
   "metadata": {},
   "outputs": [],
   "source": [
    "# Libraries\n",
    "import serial  \n",
    "import json"
   ]
  },
  {
   "cell_type": "code",
   "execution_count": 6,
   "id": "28bdf695",
   "metadata": {},
   "outputs": [],
   "source": [
    "# Functions\n",
    "\n",
    "# This 2 functions maps an input value (in range 0-100) to the corresponding value on the servo, accordingly to the \n",
    "# configuration on the json file\n",
    "def mapping(thumb_big_value, thumb_little_value, index_finger_value, middle_finger_value, ringPinky_value, forearm_value):\n",
    "    with open(\"config.json\", \"r\") as json_file:\n",
    "    #Load the contents of the JSON file into a Python dictionary\n",
    "        data = json.load(json_file)\n",
    "    \n",
    "    #thumb - big servo\n",
    "    thumb_big = data[\"thumb_big\"]\n",
    "    \n",
    "    #thumb - little servo\n",
    "    thumb_little = data[\"thumb_little\"]\n",
    "    \n",
    "    #index_finger servo\n",
    "    index_finger = data[\"index_finger\"]\n",
    "\n",
    "    #middle_finger servo\n",
    "    middle_finger = data[\"middle_finger\"]\n",
    " \n",
    "    #ring_finger servo\n",
    "    ring_pinky = data[\"ring_pinky\"]\n",
    "  \n",
    "    #forearm servo\n",
    "    forearm = data[\"forearm\"]\n",
    "\n",
    "    #All inputs\n",
    "    input_values = [thumb_big_value, thumb_little_value, index_finger_value, middle_finger_value, ringPinky_value, forearm_value]\n",
    "    #All range\n",
    "    fingers_data = [thumb_big, thumb_little, index_finger, middle_finger, ring_pinky,forearm]\n",
    "    fingers_data_mapped = []\n",
    "    i = 0\n",
    "    for single_finger in fingers_data:\n",
    "        start = single_finger[\"range_from\"]\n",
    "        stop = single_finger[\"range_to\"]\n",
    "        #print(single_finger)\n",
    "        fingers_data_mapped.append(calculus(input_values[i],start,stop))\n",
    "        i = i+1\n",
    "        \n",
    "    return fingers_data_mapped\n",
    "        \n",
    "        \n",
    "        \n",
    "def calculus(val,start,stop):\n",
    "    if start==0:\n",
    "        return int((val/100)*stop)\n",
    "    else:\n",
    "        new_stop = stop - start\n",
    "        return int(((val/100)*new_stop)+start)  "
   ]
  },
  {
   "cell_type": "code",
   "execution_count": 7,
   "id": "ccd6f885",
   "metadata": {},
   "outputs": [
    {
     "name": "stdout",
     "output_type": "stream",
     "text": [
      "thumb value - big servo (0-100): 50\n",
      "thumb value - little servo (0-100): 40\n",
      "index_finger value (0-100): 89\n",
      "middle_finger value (0-100): 799\n",
      "Invalid value\n",
      "middle_finger value (0-100): 6565\n",
      "Invalid value\n",
      "middle_finger value (0-100): 5\n",
      "ring and pinky values (0-100): 35\n",
      "forearm value (0-100): 61\n"
     ]
    }
   ],
   "source": [
    "#usbport = 'COM7'\n",
    "#arduino = serial.Serial(usbport, baudrate=9600, timeout=.1)   \n",
    "\n",
    "#Default values\n",
    "thumb_big_command = 0\n",
    "thumb_little_command = 0\n",
    "index_command = 0\n",
    "middle_finger_command = 0\n",
    "ring_pinky_command = 0\n",
    "forearm_command = 0\n",
    "\n",
    "while True:\n",
    "    thumb_big_command = int(input (\"thumb value - big servo (0-100): \"))\n",
    "    if(thumb_command<0 or thumb_command>100): \n",
    "        print(\"Invalid value\")\n",
    "    else:\n",
    "        break\n",
    "\n",
    "while True:\n",
    "    thumb_little_command = int(input (\"thumb value - little servo (0-100): \"))\n",
    "    if(thumb_command<0 or thumb_command>100): \n",
    "        print(\"Invalid value\")\n",
    "    else:\n",
    "        break\n",
    "\n",
    "#print(str(arduino.readline()))             \n",
    "while True:\n",
    "    index_command = int(input (\"index_finger value (0-100): \"))\n",
    "    if(index_command<0 or index_command>100): \n",
    "        print(\"Invalid value\")\n",
    "    else:\n",
    "        break\n",
    "        \n",
    "#print(str(arduino.readline()))                \n",
    "while True:\n",
    "    middle_finger_command = int(input (\"middle_finger value (0-100): \"))\n",
    "    if(middle_finger_command<0 or middle_finger_command>100): \n",
    "        print(\"Invalid value\")\n",
    "    else:\n",
    "        break\n",
    "\n",
    "#print(str(arduino.readline()))\n",
    "while True:\n",
    "    ring_finger_command = int(input (\"ring and pinky values (0-100): \"))\n",
    "    if(ring_finger_command<0 or ring_finger_command>100): \n",
    "        print(\"Invalid value\")\n",
    "    else:\n",
    "        break\n",
    "        \n",
    "#print(str(arduino.readline()))        \n",
    "while True:\n",
    "    forearm_command = int(input (\"forearm value (0-100): \"))\n",
    "    if(forearm_command<0 or forearm_command>100): \n",
    "        print(\"Invalid value\")\n",
    "    else:\n",
    "        break       \n",
    "             \n",
    "fingers_data_mapped = mapping(thumb_big_command, thumb_little_command, index_command, middle_finger_command, ring_pinky_command,\n",
    "                            forearm_command)\n",
    "    \n",
    "# Send values to arduino(*)"
   ]
  },
  {
   "cell_type": "code",
   "execution_count": 8,
   "id": "d2f5a2ae",
   "metadata": {},
   "outputs": [
    {
     "data": {
      "text/plain": [
       "[35, 61, 142, 9, 0, 109]"
      ]
     },
     "execution_count": 8,
     "metadata": {},
     "output_type": "execute_result"
    }
   ],
   "source": [
    "fingers_data_mapped"
   ]
  },
  {
   "cell_type": "code",
   "execution_count": null,
   "id": "7cf383d1",
   "metadata": {},
   "outputs": [],
   "source": []
  },
  {
   "cell_type": "code",
   "execution_count": null,
   "id": "8c7f4379",
   "metadata": {},
   "outputs": [],
   "source": []
  },
  {
   "cell_type": "code",
   "execution_count": null,
   "id": "dc9328e8",
   "metadata": {},
   "outputs": [],
   "source": []
  },
  {
   "cell_type": "code",
   "execution_count": null,
   "id": "22c406fc",
   "metadata": {},
   "outputs": [],
   "source": []
  },
  {
   "cell_type": "code",
   "execution_count": null,
   "id": "5d1ccefd",
   "metadata": {},
   "outputs": [],
   "source": []
  },
  {
   "cell_type": "code",
   "execution_count": null,
   "id": "9e932740",
   "metadata": {},
   "outputs": [],
   "source": []
  },
  {
   "cell_type": "code",
   "execution_count": null,
   "id": "5eae4b86",
   "metadata": {},
   "outputs": [],
   "source": []
  },
  {
   "cell_type": "code",
   "execution_count": null,
   "id": "a320ace1",
   "metadata": {},
   "outputs": [],
   "source": []
  },
  {
   "cell_type": "code",
   "execution_count": null,
   "id": "bd62fa1e",
   "metadata": {},
   "outputs": [],
   "source": []
  },
  {
   "cell_type": "code",
   "execution_count": null,
   "id": "063ca925",
   "metadata": {},
   "outputs": [],
   "source": []
  }
 ],
 "metadata": {
  "kernelspec": {
   "display_name": "Python 3 (ipykernel)",
   "language": "python",
   "name": "python3"
  },
  "language_info": {
   "codemirror_mode": {
    "name": "ipython",
    "version": 3
   },
   "file_extension": ".py",
   "mimetype": "text/x-python",
   "name": "python",
   "nbconvert_exporter": "python",
   "pygments_lexer": "ipython3",
   "version": "3.11.4"
  }
 },
 "nbformat": 4,
 "nbformat_minor": 5
}
