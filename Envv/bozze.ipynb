{
 "cells": [
  {
   "cell_type": "code",
   "execution_count": 12,
   "id": "0fe1b224",
   "metadata": {},
   "outputs": [],
   "source": [
    "def a():\n",
    "    item_id = \"mago merlino\"\n",
    "    def b():\n",
    "        nonlocal item_id #sostuisci con global o con nulla e ricordati il funzionamento\n",
    "        print(item_id)\n",
    "        print(\"Sovrascrivo\")\n",
    "        item_id = \"aaaaaa\"\n",
    "        print(item_id)\n",
    "    \n",
    "    b()"
   ]
  },
  {
   "cell_type": "code",
   "execution_count": 13,
   "id": "1468910f",
   "metadata": {},
   "outputs": [
    {
     "name": "stdout",
     "output_type": "stream",
     "text": [
      "mago merlino\n",
      "Sovrascrivo\n",
      "aaaaaa\n"
     ]
    }
   ],
   "source": [
    "a()"
   ]
  },
  {
   "cell_type": "code",
   "execution_count": 1,
   "id": "6f46583e",
   "metadata": {},
   "outputs": [
    {
     "name": "stdout",
     "output_type": "stream",
     "text": [
      "[{'a': 1}, {'c': 3}]\n"
     ]
    }
   ],
   "source": [
    "# Lista di dizionari\n",
    "lista_dizionari = [{'a': 1}, {'b': 2}, {'c': 3}]\n",
    "\n",
    "# Chiave da cercare ed eliminare\n",
    "chiave_da_cercare = 'b'\n",
    "\n",
    "# Rimuovi i dizionari che contengono la chiave specificata\n",
    "nuova_lista = [dizionario for dizionario in lista_dizionari if chiave_da_cercare not in dizionario]\n",
    "\n",
    "print(nuova_lista)\n"
   ]
  },
  {
   "cell_type": "code",
   "execution_count": null,
   "id": "fa5cac77",
   "metadata": {},
   "outputs": [],
   "source": []
  },
  {
   "cell_type": "code",
   "execution_count": null,
   "id": "52e75d8a",
   "metadata": {},
   "outputs": [],
   "source": []
  },
  {
   "cell_type": "code",
   "execution_count": 3,
   "id": "9ab184df",
   "metadata": {},
   "outputs": [],
   "source": [
    "import tkinter as tk\n",
    "\n",
    "root = tk.Tk()\n",
    "\n",
    "entry = tk.Entry(root)\n",
    "entry.pack()\n",
    "\n",
    "# Valore di default numerico da inserire\n",
    "valore_default = 123\n",
    "\n",
    "# Converte il numero in stringa prima di inserirlo\n",
    "entry.insert(0, 57)\n",
    "\n",
    "root.mainloop()\n"
   ]
  },
  {
   "cell_type": "code",
   "execution_count": null,
   "id": "172b6614",
   "metadata": {},
   "outputs": [],
   "source": []
  },
  {
   "cell_type": "code",
   "execution_count": null,
   "id": "65a59235",
   "metadata": {},
   "outputs": [],
   "source": []
  },
  {
   "cell_type": "code",
   "execution_count": 1,
   "id": "37c9e653",
   "metadata": {},
   "outputs": [
    {
     "name": "stdout",
     "output_type": "stream",
     "text": [
      "L'ID del padre dell'elemento con ID '1.1' è '1'\n",
      "L'ID del padre dell'elemento con ID '1.1' è '1'\n",
      "L'ID del padre dell'elemento con ID '1.1' è '1'\n",
      "L'ID del padre dell'elemento con ID '1.1' è '1'\n"
     ]
    }
   ],
   "source": [
    "import tkinter as tk\n",
    "from tkinter import ttk\n",
    "\n",
    "# Funzione per ottenere e stampare l'ID del padre di un elemento\n",
    "def mostra_id_padre(tree, item_id):\n",
    "    id_padre = tree.parent(item_id)\n",
    "    print(f\"L'ID del padre dell'elemento con ID '{item_id}' è '{id_padre}'\")\n",
    "\n",
    "# Creazione della finestra principale\n",
    "root = tk.Tk()\n",
    "root.title(\"Esempio Treeview\")\n",
    "\n",
    "# Creazione del Treeview\n",
    "tree = ttk.Treeview(root)\n",
    "tree.pack()\n",
    "\n",
    "# Aggiungi alcuni elementi di esempio\n",
    "tree.insert('', 'end', iid='1', text='Elemento 1')\n",
    "tree.insert('1', 'end', iid='1.1', text='Elemento 1.1')  # Figlio di '1'\n",
    "tree.insert('1', 'end', iid='1.2', text='Elemento 1.2')  # Figlio di '1'\n",
    "tree.insert('', 'end', iid='2', text='Elemento 2')\n",
    "tree.insert('2', 'end', iid='2.1', text='Elemento 2.1')  # Figlio di '2'\n",
    "\n",
    "# Bottone per mostrare l'ID del padre di un elemento specifico\n",
    "button = tk.Button(root, text=\"Mostra ID Padre di '1.1'\", command=lambda: mostra_id_padre(tree, '1.1'))\n",
    "button.pack()\n",
    "\n",
    "# Avvia il loop principale\n",
    "root.mainloop()\n"
   ]
  },
  {
   "cell_type": "code",
   "execution_count": null,
   "id": "a53b3e5d",
   "metadata": {},
   "outputs": [],
   "source": []
  },
  {
   "cell_type": "code",
   "execution_count": 22,
   "id": "bbedcf69",
   "metadata": {},
   "outputs": [],
   "source": []
  },
  {
   "cell_type": "code",
   "execution_count": null,
   "id": "b73917a5",
   "metadata": {},
   "outputs": [],
   "source": []
  },
  {
   "cell_type": "code",
   "execution_count": null,
   "id": "02d38568",
   "metadata": {},
   "outputs": [],
   "source": []
  },
  {
   "cell_type": "code",
   "execution_count": null,
   "id": "ed3ff4e8",
   "metadata": {},
   "outputs": [],
   "source": []
  },
  {
   "cell_type": "code",
   "execution_count": 5,
   "id": "621afe30",
   "metadata": {},
   "outputs": [
    {
     "name": "stdout",
     "output_type": "stream",
     "text": [
      "{'I001': 0, 'I002': 1, 'I003': 2, 'I004': 3}\n",
      "{'I004': 0, 'I001': 1, 'I002': 2, 'I003': 3}\n"
     ]
    }
   ],
   "source": [
    "import tkinter as tk\n",
    "from tkinter import ttk\n",
    "\n",
    "def get_indices():\n",
    "    items = tree.get_children()\n",
    "    indices = {item: tree.index(item) for item in items}\n",
    "    print(indices)\n",
    "\n",
    "def move_up():\n",
    "    selected_item = tree.selection()\n",
    "    if selected_item:\n",
    "        item = selected_item[0]\n",
    "        index = tree.index(item)\n",
    "        if index > 0:\n",
    "            tree.move(item, '', index - 1)\n",
    "\n",
    "def move_down():\n",
    "    selected_item = tree.selection()\n",
    "    if selected_item:\n",
    "        item = selected_item[0]\n",
    "        index = tree.index(item)\n",
    "        if index < len(tree.get_children()) - 1:\n",
    "            tree.move(item, '', index + 1)\n",
    "\n",
    "# Creare la finestra principale\n",
    "root = tk.Tk()\n",
    "root.title(\"Treeview Indices Example\")\n",
    "\n",
    "# Creare il Treeview\n",
    "tree = ttk.Treeview(root)\n",
    "tree.pack()\n",
    "\n",
    "# Aggiungere elementi al Treeview\n",
    "items = [\"Elemento 1\", \"Elemento 2\", \"Elemento 3\", \"Elemento 4\"]\n",
    "for item in items:\n",
    "    tree.insert(\"\", \"end\", text=item)\n",
    "\n",
    "# Bottone per ottenere gli indici\n",
    "button_indices = tk.Button(root, text=\"Get Indices\", command=get_indices)\n",
    "button_indices.pack()\n",
    "\n",
    "# Bottone per spostare l'elemento su\n",
    "button_up = tk.Button(root, text=\"Up\", command=move_up)\n",
    "button_up.pack()\n",
    "\n",
    "# Bottone per spostare l'elemento giù\n",
    "button_down = tk.Button(root, text=\"Down\", command=move_down)\n",
    "button_down.pack()\n",
    "\n",
    "# Avviare l'applicazione\n",
    "root.mainloop()\n"
   ]
  },
  {
   "cell_type": "code",
   "execution_count": 6,
   "id": "52cbfca2",
   "metadata": {},
   "outputs": [
    {
     "name": "stdout",
     "output_type": "stream",
     "text": [
      "L'elemento con ID '' non esiste.\n",
      "L'elemento con ID 'I0002' non esiste.\n",
      "L'elemento con ID 'I002' non esiste.\n",
      "L'elemento con ID 'I002' non esiste.\n",
      "L'elemento con ID 'I002' non esiste.\n",
      "L'elemento con ID 'I002' non esiste.\n",
      "L'elemento con ID 'I002' non esiste.\n"
     ]
    }
   ],
   "source": [
    "import tkinter as tk\n",
    "from tkinter import ttk\n",
    "\n",
    "def get_index_by_id(item_id):\n",
    "    if item_id in tree.get_children():\n",
    "        index = tree.index(item_id)\n",
    "        return index\n",
    "    else:\n",
    "        return None\n",
    "\n",
    "def print_index():\n",
    "    item_id = entry_id.get()\n",
    "    index = get_index_by_id(item_id)\n",
    "    if index is not None:\n",
    "        print(f\"L'indice dell'elemento con ID '{item_id}' è: {index}\")\n",
    "    else:\n",
    "        print(f\"L'elemento con ID '{item_id}' non esiste.\")\n",
    "\n",
    "# Creare la finestra principale\n",
    "root = tk.Tk()\n",
    "root.title(\"Treeview Indices Example\")\n",
    "\n",
    "# Creare il Treeview\n",
    "tree = ttk.Treeview(root)\n",
    "tree.pack()\n",
    "\n",
    "# Aggiungere elementi al Treeview con ID specifici\n",
    "for i in range(1, 5):\n",
    "    tree.insert(\"\", \"end\", iid=f\"item{i}\", text=f\"ID: item{i}\")\n",
    "\n",
    "# Entry per inserire l'ID dell'elemento\n",
    "entry_id = tk.Entry(root)\n",
    "entry_id.pack()\n",
    "\n",
    "# Bottone per ottenere l'indice dell'elemento dato il suo ID\n",
    "button_get_index = tk.Button(root, text=\"Get Index by ID\", command=print_index)\n",
    "button_get_index.pack()\n",
    "\n",
    "# Avviare l'applicazione\n",
    "root.mainloop()\n"
   ]
  },
  {
   "cell_type": "code",
   "execution_count": null,
   "id": "1ca1321f",
   "metadata": {},
   "outputs": [],
   "source": []
  }
 ],
 "metadata": {
  "kernelspec": {
   "display_name": "Python 3 (ipykernel)",
   "language": "python",
   "name": "python3"
  },
  "language_info": {
   "codemirror_mode": {
    "name": "ipython",
    "version": 3
   },
   "file_extension": ".py",
   "mimetype": "text/x-python",
   "name": "python",
   "nbconvert_exporter": "python",
   "pygments_lexer": "ipython3",
   "version": "3.11.4"
  }
 },
 "nbformat": 4,
 "nbformat_minor": 5
}
