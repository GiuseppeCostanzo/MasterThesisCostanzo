{
 "cells": [
  {
   "cell_type": "code",
   "execution_count": 8,
   "id": "2e84b3a8",
   "metadata": {},
   "outputs": [],
   "source": [
    "# Libraries\n",
    "import tkinter as tk\n",
    "from tkinter import ttk\n",
    "from tkinter import messagebox\n",
    "import serial  \n",
    "import json\n",
    "import os\n",
    "import time\n",
    "import functools\n",
    "import numpy as np\n",
    "from abc import ABC, abstractmethod"
   ]
  },
  {
   "cell_type": "code",
   "execution_count": 9,
   "id": "91cbad3b",
   "metadata": {},
   "outputs": [],
   "source": [
    "def read_json():\n",
    "    try:\n",
    "        with open(\"movements.json\", 'r') as file:\n",
    "            data = json.load(file)\n",
    "        return data\n",
    "    except FileNotFoundError:\n",
    "        print(\"File not found\")\n",
    "        return None\n",
    "    except json.JSONDecodeError as e:\n",
    "        print(\"Parsing error in the json file:\", e)\n",
    "        return None\n"
   ]
  },
  {
   "cell_type": "code",
   "execution_count": 10,
   "id": "63ad18d3",
   "metadata": {},
   "outputs": [],
   "source": [
    "def delete_movement(movement_to_delete):\n",
    "    \n",
    "    # Carica i dati esistenti dal file JSON se esiste\n",
    "    if os.path.exists(\"movements.json\"):\n",
    "        #Se il file esiste, apro il file\n",
    "        with open(\"movements.json\", 'r') as file_json:\n",
    "            dati = json.load(file_json)\n",
    "            \n",
    "        if movement_to_delete in dati:\n",
    "            del dati[movement_to_delete]\n",
    "            \n",
    "            # Salva il dizionario aggiornato in formato JSON nel file specificato\n",
    "            with open(\"movements.json\", \"w\") as json_file:\n",
    "                json.dump(dati, json_file)\n",
    "                #gui_instance.configure_frame3()\n",
    "                return True\n",
    "            \n",
    "        else:\n",
    "            print(f\"The movement '{movement_to_delete}' does not exists\")\n",
    "            return False\n",
    "    else:\n",
    "        print(\"The file movements.json does not exists\")\n",
    "        return False\n",
    "    \n",
    "    "
   ]
  },
  {
   "cell_type": "code",
   "execution_count": null,
   "id": "34b7820a",
   "metadata": {},
   "outputs": [],
   "source": []
  },
  {
   "cell_type": "code",
   "execution_count": 16,
   "id": "86ebfe35",
   "metadata": {},
   "outputs": [
    {
     "data": {
      "text/plain": [
       "{'mov3': [[1, 1, 1, 1, 1, 1, 1],\n",
       "  [11, 16, 16, 16, 16, 1, 2],\n",
       "  [22, 32, 32, 32, 32, 2, 3]],\n",
       " 'mov5': [[1, 1, 1, 1, 1, 1, 1],\n",
       "  [11, 16, 16, 16, 16, 1, 2],\n",
       "  [22, 32, 32, 32, 32, 2, 3]]}"
      ]
     },
     "execution_count": 16,
     "metadata": {},
     "output_type": "execute_result"
    }
   ],
   "source": [
    "read_json()"
   ]
  },
  {
   "cell_type": "code",
   "execution_count": null,
   "id": "ff7e9eaf",
   "metadata": {},
   "outputs": [],
   "source": []
  },
  {
   "cell_type": "code",
   "execution_count": null,
   "id": "109bd74c",
   "metadata": {},
   "outputs": [],
   "source": []
  },
  {
   "cell_type": "code",
   "execution_count": 20,
   "id": "eea03d88",
   "metadata": {},
   "outputs": [],
   "source": []
  },
  {
   "cell_type": "code",
   "execution_count": null,
   "id": "0fe1b224",
   "metadata": {},
   "outputs": [],
   "source": []
  },
  {
   "cell_type": "code",
   "execution_count": null,
   "id": "1468910f",
   "metadata": {},
   "outputs": [],
   "source": []
  },
  {
   "cell_type": "code",
   "execution_count": null,
   "id": "6f46583e",
   "metadata": {},
   "outputs": [],
   "source": []
  },
  {
   "cell_type": "code",
   "execution_count": null,
   "id": "fa5cac77",
   "metadata": {},
   "outputs": [],
   "source": []
  },
  {
   "cell_type": "code",
   "execution_count": null,
   "id": "52e75d8a",
   "metadata": {},
   "outputs": [],
   "source": []
  },
  {
   "cell_type": "code",
   "execution_count": null,
   "id": "9ab184df",
   "metadata": {},
   "outputs": [],
   "source": []
  },
  {
   "cell_type": "code",
   "execution_count": 6,
   "id": "172b6614",
   "metadata": {},
   "outputs": [],
   "source": []
  },
  {
   "cell_type": "code",
   "execution_count": null,
   "id": "65a59235",
   "metadata": {},
   "outputs": [],
   "source": []
  },
  {
   "cell_type": "code",
   "execution_count": null,
   "id": "37c9e653",
   "metadata": {},
   "outputs": [],
   "source": []
  },
  {
   "cell_type": "code",
   "execution_count": null,
   "id": "a53b3e5d",
   "metadata": {},
   "outputs": [],
   "source": []
  },
  {
   "cell_type": "code",
   "execution_count": null,
   "id": "bbedcf69",
   "metadata": {},
   "outputs": [],
   "source": []
  },
  {
   "cell_type": "code",
   "execution_count": null,
   "id": "b73917a5",
   "metadata": {},
   "outputs": [],
   "source": []
  },
  {
   "cell_type": "code",
   "execution_count": null,
   "id": "02d38568",
   "metadata": {},
   "outputs": [],
   "source": []
  },
  {
   "cell_type": "code",
   "execution_count": null,
   "id": "ed3ff4e8",
   "metadata": {},
   "outputs": [],
   "source": []
  }
 ],
 "metadata": {
  "kernelspec": {
   "display_name": "Python 3 (ipykernel)",
   "language": "python",
   "name": "python3"
  },
  "language_info": {
   "codemirror_mode": {
    "name": "ipython",
    "version": 3
   },
   "file_extension": ".py",
   "mimetype": "text/x-python",
   "name": "python",
   "nbconvert_exporter": "python",
   "pygments_lexer": "ipython3",
   "version": "3.11.4"
  }
 },
 "nbformat": 4,
 "nbformat_minor": 5
}
