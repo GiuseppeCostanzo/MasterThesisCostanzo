{
 "cells": [
  {
   "cell_type": "code",
   "execution_count": null,
   "id": "fbc9208d",
   "metadata": {},
   "outputs": [],
   "source": []
  },
  {
   "cell_type": "code",
   "execution_count": null,
   "id": "63ad18d3",
   "metadata": {},
   "outputs": [],
   "source": []
  },
  {
   "cell_type": "code",
   "execution_count": null,
   "id": "34b7820a",
   "metadata": {},
   "outputs": [],
   "source": []
  },
  {
   "cell_type": "code",
   "execution_count": null,
   "id": "86ebfe35",
   "metadata": {},
   "outputs": [],
   "source": []
  },
  {
   "cell_type": "code",
   "execution_count": null,
   "id": "ff7e9eaf",
   "metadata": {},
   "outputs": [],
   "source": []
  },
  {
   "cell_type": "code",
   "execution_count": null,
   "id": "109bd74c",
   "metadata": {},
   "outputs": [],
   "source": []
  },
  {
   "cell_type": "code",
   "execution_count": 42,
   "id": "eea03d88",
   "metadata": {},
   "outputs": [
    {
     "name": "stdout",
     "output_type": "stream",
     "text": [
      "[  0  10  20  30  40  50  60  70  80  90 100 110 121]\n",
      "-------------\n",
      "[[  0   0   0   0   0   0   0]\n",
      " [  8   8   8   8   8   7  10]\n",
      " [ 16  16  16  16  16  15  20]\n",
      " [ 25  25  25  25  25  22  30]\n",
      " [ 33  33  33  33  33  30  40]\n",
      " [ 41  41  41  41  41  37  50]\n",
      " [ 50  50  50  50  50  45  60]\n",
      " [ 58  58  58  58  58  52  70]\n",
      " [ 66  66  66  66  66  60  80]\n",
      " [ 75  75  75  75  75  67  90]\n",
      " [ 83  83  83  83  83  75 100]\n",
      " [ 91  91  91  91  91  82 110]\n",
      " [100 100 100 100 100  90 121]]\n"
     ]
    }
   ],
   "source": [
    "import numpy as np\n",
    "\n",
    "def discretize_servo_positions(tempo_inizio, tempo_fine, posizione_inizio, posizione_fine, deltaT):\n",
    "    \n",
    " \n",
    "    # Calcola il numero di intervalli discreti per il set corrente di parametri\n",
    "    L = int(np.round((tempo_fine - tempo_inizio) / deltaT)) + 1\n",
    "        \n",
    "    # Genera array di tempi discreti per il set corrente di parametri\n",
    "    #tempi_discreti = np.linspace(tempo_inizio, tempo_fine, L)\n",
    "    tempi_discreti = (np.linspace(tempo_inizio, tempo_fine, L)).astype(np.int64)\n",
    "    print(tempi_discreti)\n",
    "    print(\"-------------\")\n",
    "    \n",
    "    # Interpola le posizioni dei servomotori per il set corrente di parametri\n",
    "    posizioni_discrete = (np.linspace(posizione_inizio[0], posizione_fine[0], L)).astype(np.int64)\n",
    "    \n",
    "    # Crea una matrice per memorizzare i valori discretizzati per il set corrente di parametri\n",
    "    matrice_discretizzata = np.vstack((posizioni_discrete, tempi_discreti))\n",
    "        \n",
    "    # Interpola le posizioni dei servomotori per il set corrente di parametri\n",
    "    for i in range(1, 6):\n",
    "        nuove_posizioni = (np.linspace(posizione_inizio[i], posizione_fine[i], L)).astype(np.int64)\n",
    "        \n",
    "        # Crea una matrice per memorizzare i valori discretizzati per il set corrente di parametri\n",
    "        matrice_discretizzata = np.vstack((nuove_posizioni,matrice_discretizzata))\n",
    "        \n",
    "        # Aggiunge la matrice corrente alla lista\n",
    "        #matrici_discretizzate.append(matrice_discretizzata)\n",
    "    \n",
    "    return matrice_discretizzata.T\n",
    "\n",
    "# Esempio di utilizzo\n",
    "tempo_inizio = 0\n",
    "tempo_fine = 121\n",
    "posizione_inizio = [0, 0, 0, 0, 0, 0]\n",
    "posizione_fine = [90, 100, 100, 100, 100, 100]\n",
    "deltaT = 10\n",
    "\n",
    "# Chiama la funzione\n",
    "risultato = discretize_servo_positions(tempo_inizio, tempo_fine, posizione_inizio, posizione_fine, deltaT)\n",
    "\n",
    "print(risultato)\n"
   ]
  },
  {
   "cell_type": "code",
   "execution_count": null,
   "id": "0fe1b224",
   "metadata": {},
   "outputs": [],
   "source": []
  },
  {
   "cell_type": "code",
   "execution_count": null,
   "id": "1468910f",
   "metadata": {},
   "outputs": [],
   "source": []
  },
  {
   "cell_type": "code",
   "execution_count": null,
   "id": "6f46583e",
   "metadata": {},
   "outputs": [],
   "source": []
  },
  {
   "cell_type": "code",
   "execution_count": null,
   "id": "fa5cac77",
   "metadata": {},
   "outputs": [],
   "source": []
  },
  {
   "cell_type": "code",
   "execution_count": null,
   "id": "52e75d8a",
   "metadata": {},
   "outputs": [],
   "source": []
  },
  {
   "cell_type": "code",
   "execution_count": null,
   "id": "9ab184df",
   "metadata": {},
   "outputs": [],
   "source": []
  },
  {
   "cell_type": "code",
   "execution_count": 6,
   "id": "172b6614",
   "metadata": {},
   "outputs": [],
   "source": []
  },
  {
   "cell_type": "code",
   "execution_count": null,
   "id": "65a59235",
   "metadata": {},
   "outputs": [],
   "source": []
  },
  {
   "cell_type": "code",
   "execution_count": null,
   "id": "37c9e653",
   "metadata": {},
   "outputs": [],
   "source": []
  },
  {
   "cell_type": "code",
   "execution_count": null,
   "id": "a53b3e5d",
   "metadata": {},
   "outputs": [],
   "source": []
  },
  {
   "cell_type": "code",
   "execution_count": null,
   "id": "bbedcf69",
   "metadata": {},
   "outputs": [],
   "source": []
  },
  {
   "cell_type": "code",
   "execution_count": null,
   "id": "b73917a5",
   "metadata": {},
   "outputs": [],
   "source": []
  },
  {
   "cell_type": "code",
   "execution_count": null,
   "id": "02d38568",
   "metadata": {},
   "outputs": [],
   "source": []
  },
  {
   "cell_type": "code",
   "execution_count": null,
   "id": "ed3ff4e8",
   "metadata": {},
   "outputs": [],
   "source": []
  }
 ],
 "metadata": {
  "kernelspec": {
   "display_name": "Python 3 (ipykernel)",
   "language": "python",
   "name": "python3"
  },
  "language_info": {
   "codemirror_mode": {
    "name": "ipython",
    "version": 3
   },
   "file_extension": ".py",
   "mimetype": "text/x-python",
   "name": "python",
   "nbconvert_exporter": "python",
   "pygments_lexer": "ipython3",
   "version": "3.11.4"
  }
 },
 "nbformat": 4,
 "nbformat_minor": 5
}
