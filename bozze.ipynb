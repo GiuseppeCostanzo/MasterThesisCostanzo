{
 "cells": [
  {
   "cell_type": "code",
   "execution_count": 217,
   "id": "0fe1b224",
   "metadata": {},
   "outputs": [],
   "source": [
    "from abc import ABC, abstractmethod\n",
    "\n",
    "# Abstract father class\n",
    "class Movement(ABC):\n",
    "    def __init__(self, startTime, endTime):\n",
    "        self.startTime = startTime\n",
    "        self.endTime = endTime\n",
    "        #L=(np.round((self.endTime-self.startTime)/deltaT)+1).astype(np.int64)\n",
    "        #self.DiscreteMov=None\n",
    "\n",
    "    @abstractmethod\n",
    "    def discretize(self):\n",
    "        pass\n",
    "\n",
    "#modificare l'input con le list\n",
    "class SinusoidalMovement(Movement):\n",
    "    def __init__(self, startTime, endTime, amplitude, frequency, phase, deltaT, y_init):\n",
    "        super().__init__(startTime, endTime)\n",
    "        self.amplitude = amplitude\n",
    "        self.frequency = frequency\n",
    "        self.phase = phase\n",
    "        self.deltaT = deltaT # Periodo di campionamento\n",
    "        self.y_init = y_init\n",
    "        \n",
    "    def discretize(self):\n",
    "        for i in range(6):\n",
    "            # Controlla se i valori massimo e minimo della sinusoide rimangono entro i limiti di 0 e 100\n",
    "            if self.y_init[i] + self.amplitude[i] > 100 or self.y_init[i] - self.amplitude[i] < 0:\n",
    "                print(\"I valori della sinusoide eccederebbero i limiti di 0 e 100.\")\n",
    "                return None, None\n",
    "        \n",
    "        # Converte gli istanti di tempo da millisecondi a secondi per il calcolo\n",
    "        self.startTime = self.startTime / 1000\n",
    "        self.endTime = self.endTime / 1000\n",
    "\n",
    "        # Genera un array di tempi da startTime a end_time con intervalli di deltaT(periodo di campionamento)\n",
    "        t = np.arange(self.startTime, self.endTime, self.deltaT)\n",
    "        t_millis = t*1000 #per il salvtaggio\n",
    "        \n",
    "        column1 = self.amplitude[5] * np.sin(2 * np.pi * self.frequency[5] * t + self.phase[5]) + self.y_init[5]\n",
    "        y = np.vstack((column1,t_millis)) \n",
    "        for i in range(4,-1,-1):\n",
    "            \n",
    "            # Calcola i valori della sinusoide\n",
    "            # y è un array di valori che rappresentano l'ampiezza della sinusoide in corrispondenza di ciascun istante di tempo t\n",
    "            # self.y_init è l'offset che permette all'utente di decidere su quale valore y iniziare\n",
    "            column_i = self.amplitude[i] * np.sin(2 * np.pi * self.frequency[i] * t + self.phase[i]) + self.y_init[i] \n",
    "            y = np.vstack((column_i,y))\n",
    "            \n",
    "        matrix = y.astype(np.int64) #to int\n",
    "        return matrix.T # riconversione in millisecondi per visualizzazione\n",
    "\n",
    "# valori di prova\n",
    "start_time = 500 #millisecond\n",
    "end_time = 2000 #millisecond\n",
    "amplitude = [5,10,15,10,20,30] #range 0-50\n",
    "frequency = [2,4,6,1,10,18] #Hz\n",
    "phase = [0,0,0,0,0,0] #radianti (-1,1)\n",
    "deltaT = 0.065 #periodo di campionamento (secondi)\n",
    "y_init = [90,75,60,40,20,60]\n",
    "\n",
    "a = SinusoidalMovement(start_time,end_time,amplitude,frequency,phase,deltaT,y_init)"
   ]
  },
  {
   "cell_type": "code",
   "execution_count": 218,
   "id": "1468910f",
   "metadata": {},
   "outputs": [
    {
     "data": {
      "text/plain": [
       "array([[  90,   75,   59,   40,   19,   59,  500],\n",
       "       [  93,   84,   69,   36,    3,   86,  565],\n",
       "       [  94,   73,   45,   32,   39,   85,  629],\n",
       "       [  93,   65,   73,   30,   13,   58,  694],\n",
       "       [  89,   77,   54,   30,    8,   32,  759],\n",
       "       [  85,   84,   55,   31,   40,   35,  824],\n",
       "       [  85,   71,   72,   33,    8,   63,  889],\n",
       "       [  87,   65,   45,   37,   13,   87,  954],\n",
       "       [  91,   79,   70,   41,   39,   83, 1019],\n",
       "       [  94,   83,   59,   45,    3,   54, 1084],\n",
       "       [  94,   69,   51,   48,   20,   31, 1149],\n",
       "       [  92,   67,   74,   49,   36,   38, 1214],\n",
       "       [  88,   81,   46,   49,    0,   67, 1279],\n",
       "       [  85,   81,   66,   48,   26,   89, 1344],\n",
       "       [  85,   67,   63,   45,   31,   80, 1409],\n",
       "       [  88,   69,   47,   41,    0,   50, 1474],\n",
       "       [  92,   83,   74,   37,   31,   30, 1539],\n",
       "       [  94,   79,   49,   33,   26,   40, 1604],\n",
       "       [  94,   65,   61,   31,    0,   71, 1669],\n",
       "       [  90,   71,   68,   30,   36,   89, 1734],\n",
       "       [  87,   84,   45,   30,   19,   77, 1799],\n",
       "       [  85,   77,   73,   32,    3,   47, 1864],\n",
       "       [  86,   65,   52,   35,   39,   30, 1929],\n",
       "       [  89,   73,   57,   39,   13,   43, 1994]], dtype=int64)"
      ]
     },
     "execution_count": 218,
     "metadata": {},
     "output_type": "execute_result"
    }
   ],
   "source": [
    "a.discretize()"
   ]
  },
  {
   "cell_type": "code",
   "execution_count": null,
   "id": "6f46583e",
   "metadata": {},
   "outputs": [],
   "source": []
  },
  {
   "cell_type": "code",
   "execution_count": null,
   "id": "fa5cac77",
   "metadata": {},
   "outputs": [],
   "source": []
  },
  {
   "cell_type": "code",
   "execution_count": 222,
   "id": "52e75d8a",
   "metadata": {},
   "outputs": [],
   "source": [
    "import tkinter as tk\n",
    "\n",
    "def create_grid(root):\n",
    "    # Titolo generico nella riga 0\n",
    "    title_label = tk.Label(root, text=\"Titolo Generico\")\n",
    "    title_label.grid(row=0, column=0, columnspan=7, pady=10)\n",
    "    \n",
    "    # Creazione della griglia 6x6 di campi di input\n",
    "    for i in range(1, 7):\n",
    "        # Label a sinistra della griglia per ogni riga\n",
    "        row_label = tk.Label(root, text=f\"Riga {i}\")\n",
    "        row_label.grid(row=i, column=0, padx=5, pady=5)\n",
    "        \n",
    "        # Campi di input\n",
    "        for j in range(1, 7):\n",
    "            entry = tk.Entry(root)\n",
    "            entry.grid(row=i, column=j, padx=5, pady=5)\n",
    "\n",
    "# Creazione della finestra principale\n",
    "root = tk.Tk()\n",
    "root.title(\"Griglia 6x6 con Label Laterali\")\n",
    "\n",
    "# Chiamata alla funzione per creare la griglia\n",
    "create_grid(root)\n",
    "\n",
    "# Avvio del loop principale di Tkinter\n",
    "root.mainloop()\n"
   ]
  },
  {
   "cell_type": "code",
   "execution_count": null,
   "id": "9ab184df",
   "metadata": {},
   "outputs": [],
   "source": []
  },
  {
   "cell_type": "code",
   "execution_count": 13,
   "id": "172b6614",
   "metadata": {},
   "outputs": [],
   "source": []
  },
  {
   "cell_type": "code",
   "execution_count": null,
   "id": "65a59235",
   "metadata": {},
   "outputs": [],
   "source": []
  },
  {
   "cell_type": "code",
   "execution_count": 23,
   "id": "37c9e653",
   "metadata": {},
   "outputs": [],
   "source": [
    "import tkinter as tk\n",
    "from tkinter import ttk\n",
    "\n",
    "# root window\n",
    "root = tk.Tk()\n",
    "root.geometry(\"240x100\")\n",
    "root.title('Login')\n",
    "root.resizable(0, 0)\n",
    "\n",
    "# configure the grid\n",
    "root.columnconfigure(0, weight=1)\n",
    "root.columnconfigure(1, weight=1)\n",
    "\n",
    "\n",
    "# username\n",
    "username_label = ttk.Label(root, text=\"Username:\")\n",
    "username_label.grid(column=0, row=0, sticky=tk.W, padx=5, pady=5)\n",
    "\n",
    "username_entry = ttk.Entry(root)\n",
    "username_entry.grid(column=1, row=0, sticky=tk.E, padx=5, pady=5)\n",
    "\n",
    "# password\n",
    "password_label = ttk.Label(root, text=\"Password:\")\n",
    "password_label.grid(column=0, row=1, sticky=tk.W, padx=5, pady=5)\n",
    "\n",
    "password_entry = ttk.Entry(root,  show=\"*\")\n",
    "password_entry.grid(column=1, row=1, sticky=tk.E, padx=5, pady=5)\n",
    "\n",
    "# login button\n",
    "login_button = ttk.Button(root, text=\"Login\")\n",
    "login_button.grid(column=1, row=3, sticky=tk.E, padx=5, pady=5)\n",
    "\n",
    "\n",
    "root.mainloop()\n"
   ]
  },
  {
   "cell_type": "code",
   "execution_count": 13,
   "id": "a53b3e5d",
   "metadata": {},
   "outputs": [
    {
     "data": {
      "text/plain": [
       "tkinter.Tk"
      ]
     },
     "execution_count": 13,
     "metadata": {},
     "output_type": "execute_result"
    }
   ],
   "source": [
    "type(root)"
   ]
  },
  {
   "cell_type": "code",
   "execution_count": 16,
   "id": "bbedcf69",
   "metadata": {},
   "outputs": [],
   "source": []
  },
  {
   "cell_type": "code",
   "execution_count": null,
   "id": "b73917a5",
   "metadata": {},
   "outputs": [],
   "source": []
  },
  {
   "cell_type": "code",
   "execution_count": 17,
   "id": "02d38568",
   "metadata": {},
   "outputs": [],
   "source": []
  },
  {
   "cell_type": "code",
   "execution_count": null,
   "id": "ed3ff4e8",
   "metadata": {},
   "outputs": [],
   "source": []
  }
 ],
 "metadata": {
  "kernelspec": {
   "display_name": "Python 3 (ipykernel)",
   "language": "python",
   "name": "python3"
  },
  "language_info": {
   "codemirror_mode": {
    "name": "ipython",
    "version": 3
   },
   "file_extension": ".py",
   "mimetype": "text/x-python",
   "name": "python",
   "nbconvert_exporter": "python",
   "pygments_lexer": "ipython3",
   "version": "3.11.4"
  }
 },
 "nbformat": 4,
 "nbformat_minor": 5
}
