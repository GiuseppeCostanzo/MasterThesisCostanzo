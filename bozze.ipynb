{
 "cells": [
  {
   "cell_type": "code",
   "execution_count": null,
   "id": "0fe1b224",
   "metadata": {},
   "outputs": [],
   "source": [
    "        # Text1\n",
    "        label1 = tk.Label(self.frame1, text=\"Thumb - big servo\")\n",
    "        label1.grid(row=1,column=0)\n",
    "        thumb_big = tk.Entry(self.frame1, fg='black',validate=\"key\", \n",
    "                             validatecommand=(validate_cmd, \"%d\", \"%i\", \"%P\", \"%s\", \"%S\", \"%v\", \"%V\", \"%W\"))\n",
    "        thumb_big.insert(0, \"Value\") \n",
    "        thumb_big.configure(justify=tk.CENTER) \n",
    "        thumb_big.grid(row=1,column=1)"
   ]
  },
  {
   "cell_type": "code",
   "execution_count": null,
   "id": "1468910f",
   "metadata": {},
   "outputs": [],
   "source": [
    "        # Thumb - big servo\n",
    "        label1 = tk.Label(self.frame2, text=\"Thumb - big servo\")\n",
    "        label1.grid(row=1,column=0,sticky='e')\n",
    "        thumb_big = tk.Entry(self.frame2, fg='black',validate=\"key\", \n",
    "                             validatecommand=(validate_cmd, \"%d\", \"%i\", \"%P\", \"%s\", \"%S\", \"%v\", \"%V\", \"%W\"))\n",
    "        thumb_big.insert(0, \"Value\") \n",
    "        thumb_big.configure(justify=tk.CENTER) \n",
    "        thumb_big.grid(row=1,column=1)"
   ]
  },
  {
   "cell_type": "code",
   "execution_count": null,
   "id": "6f46583e",
   "metadata": {},
   "outputs": [],
   "source": []
  },
  {
   "cell_type": "code",
   "execution_count": null,
   "id": "fa5cac77",
   "metadata": {},
   "outputs": [],
   "source": []
  },
  {
   "cell_type": "code",
   "execution_count": null,
   "id": "52e75d8a",
   "metadata": {},
   "outputs": [],
   "source": []
  },
  {
   "cell_type": "code",
   "execution_count": null,
   "id": "9ab184df",
   "metadata": {},
   "outputs": [],
   "source": []
  },
  {
   "cell_type": "code",
   "execution_count": null,
   "id": "172b6614",
   "metadata": {},
   "outputs": [],
   "source": []
  },
  {
   "cell_type": "code",
   "execution_count": null,
   "id": "65a59235",
   "metadata": {},
   "outputs": [],
   "source": []
  },
  {
   "cell_type": "code",
   "execution_count": null,
   "id": "37c9e653",
   "metadata": {},
   "outputs": [],
   "source": []
  },
  {
   "cell_type": "code",
   "execution_count": null,
   "id": "a53b3e5d",
   "metadata": {},
   "outputs": [],
   "source": []
  },
  {
   "cell_type": "code",
   "execution_count": null,
   "id": "bbedcf69",
   "metadata": {},
   "outputs": [],
   "source": []
  },
  {
   "cell_type": "code",
   "execution_count": null,
   "id": "b73917a5",
   "metadata": {},
   "outputs": [],
   "source": []
  },
  {
   "cell_type": "code",
   "execution_count": null,
   "id": "02d38568",
   "metadata": {},
   "outputs": [],
   "source": []
  },
  {
   "cell_type": "code",
   "execution_count": null,
   "id": "ed3ff4e8",
   "metadata": {},
   "outputs": [],
   "source": []
  }
 ],
 "metadata": {
  "kernelspec": {
   "display_name": "Python 3 (ipykernel)",
   "language": "python",
   "name": "python3"
  },
  "language_info": {
   "codemirror_mode": {
    "name": "ipython",
    "version": 3
   },
   "file_extension": ".py",
   "mimetype": "text/x-python",
   "name": "python",
   "nbconvert_exporter": "python",
   "pygments_lexer": "ipython3",
   "version": "3.11.4"
  }
 },
 "nbformat": 4,
 "nbformat_minor": 5
}
