{
 "cells": [
  {
   "cell_type": "code",
   "execution_count": 93,
   "id": "34b7820a",
   "metadata": {},
   "outputs": [],
   "source": [
    "# Libraries\n",
    "import tkinter as tk\n",
    "from tkinter import messagebox\n",
    "import serial  \n",
    "import json\n",
    "import os\n",
    "import time"
   ]
  },
  {
   "cell_type": "code",
   "execution_count": 94,
   "id": "86ebfe35",
   "metadata": {},
   "outputs": [],
   "source": [
    "arduino = None"
   ]
  },
  {
   "cell_type": "code",
   "execution_count": 244,
   "id": "ff7e9eaf",
   "metadata": {},
   "outputs": [],
   "source": [
    "# Apertura connessione seriale\n",
    "def open_serial_port():\n",
    "    global arduino \n",
    "    try:\n",
    "        if arduino is None or not arduino.is_open:\n",
    "            arduino = serial.Serial(port='COM5', baudrate=115200, timeout=.4) \n",
    "            time.sleep(2)\n",
    "            return True\n",
    "    except serial.SerialException as e:\n",
    "        print(\"Error while opening the serial port:\", e)\n",
    "        #messagebox.showerror(\"Error\", \"Error while opening the serial port\")\n",
    "        return False\n",
    "        "
   ]
  },
  {
   "cell_type": "code",
   "execution_count": 96,
   "id": "109bd74c",
   "metadata": {},
   "outputs": [],
   "source": [
    "# This 2 functions maps an input value (in range 0-100) to the corresponding value on the servo, accordingly to the \n",
    "# configuration on the json file\n",
    "def mapping(thumb_big_value, thumb_little_value, index_finger_value, middle_finger_value, ringPinky_value, forearm_value):\n",
    "    with open(\"config.json\", \"r\") as json_file:\n",
    "    #Load the contents of the JSON file into a Python dictionary\n",
    "        data = json.load(json_file)\n",
    "    \n",
    "    #thumb - big servo\n",
    "    thumb_big = data[\"thumb_big\"]\n",
    "    \n",
    "    #thumb - little servo\n",
    "    thumb_little = data[\"thumb_little\"]\n",
    "    \n",
    "    #index_finger servo\n",
    "    index_finger = data[\"index_finger\"]\n",
    "\n",
    "    #middle_finger servo\n",
    "    middle_finger = data[\"middle_finger\"]\n",
    " \n",
    "    #ring_finger servo\n",
    "    ring_pinky = data[\"ring_pinky\"]\n",
    "  \n",
    "    #forearm servo\n",
    "    forearm = data[\"forearm\"]\n",
    "\n",
    "    #All inputs\n",
    "    input_values = [thumb_big_value, thumb_little_value, index_finger_value, middle_finger_value, ringPinky_value, forearm_value]\n",
    "    #All range\n",
    "    fingers_data = [thumb_big, thumb_little, index_finger, middle_finger, ring_pinky,forearm]\n",
    "    fingers_data_mapped = []\n",
    "    i = 0\n",
    "    for single_finger in fingers_data:\n",
    "        start = single_finger[\"range_from\"]\n",
    "        stop = single_finger[\"range_to\"]\n",
    "        #print(single_finger)\n",
    "        fingers_data_mapped.append(calculus(input_values[i],start,stop))\n",
    "        i = i+1\n",
    "        \n",
    "    return fingers_data_mapped\n",
    "        \n",
    "def calculus(val,start,stop):\n",
    "    if start==0:\n",
    "        return int((val/100)*stop)\n",
    "    else:\n",
    "        new_stop = stop - start\n",
    "        return int(((val/100)*new_stop)+start)  "
   ]
  },
  {
   "cell_type": "code",
   "execution_count": 250,
   "id": "eea03d88",
   "metadata": {},
   "outputs": [
    {
     "name": "stdout",
     "output_type": "stream",
     "text": [
      "[0, 44, 0, 0, 126, 180]\n"
     ]
    }
   ],
   "source": [
    "fingers = mapping(0,15,0,0,90,100)\n",
    "print(fingers)"
   ]
  },
  {
   "cell_type": "code",
   "execution_count": 251,
   "id": "0fe1b224",
   "metadata": {},
   "outputs": [
    {
     "name": "stdout",
     "output_type": "stream",
     "text": [
      "None\n",
      "b''\n",
      "b''\n",
      "b''\n",
      "b''\n",
      "b''\n",
      "b''\n"
     ]
    }
   ],
   "source": [
    "#comunicazione arduino corretta\n",
    "\n",
    "print(open_serial_port())\n",
    "for value in fingers:\n",
    "    arduino.write(bytes(str(value), 'utf-8')) \n",
    "    time.sleep(0.1) \n",
    "    data = arduino.readline() \n",
    "    print(data)\n",
    "    \n",
    "#arduino.close()"
   ]
  },
  {
   "cell_type": "code",
   "execution_count": null,
   "id": "1468910f",
   "metadata": {},
   "outputs": [],
   "source": []
  },
  {
   "cell_type": "code",
   "execution_count": 252,
   "id": "6f46583e",
   "metadata": {},
   "outputs": [],
   "source": [
    "arduino.close()"
   ]
  },
  {
   "cell_type": "code",
   "execution_count": null,
   "id": "fa5cac77",
   "metadata": {},
   "outputs": [],
   "source": []
  },
  {
   "cell_type": "code",
   "execution_count": 122,
   "id": "52e75d8a",
   "metadata": {},
   "outputs": [
    {
     "data": {
      "text/plain": [
       "True"
      ]
     },
     "execution_count": 122,
     "metadata": {},
     "output_type": "execute_result"
    }
   ],
   "source": []
  },
  {
   "cell_type": "code",
   "execution_count": null,
   "id": "9ab184df",
   "metadata": {},
   "outputs": [],
   "source": []
  },
  {
   "cell_type": "code",
   "execution_count": 6,
   "id": "172b6614",
   "metadata": {},
   "outputs": [],
   "source": []
  },
  {
   "cell_type": "code",
   "execution_count": null,
   "id": "65a59235",
   "metadata": {},
   "outputs": [],
   "source": []
  },
  {
   "cell_type": "code",
   "execution_count": null,
   "id": "37c9e653",
   "metadata": {},
   "outputs": [],
   "source": []
  },
  {
   "cell_type": "code",
   "execution_count": null,
   "id": "a53b3e5d",
   "metadata": {},
   "outputs": [],
   "source": []
  },
  {
   "cell_type": "code",
   "execution_count": null,
   "id": "bbedcf69",
   "metadata": {},
   "outputs": [],
   "source": []
  },
  {
   "cell_type": "code",
   "execution_count": null,
   "id": "b73917a5",
   "metadata": {},
   "outputs": [],
   "source": []
  },
  {
   "cell_type": "code",
   "execution_count": null,
   "id": "02d38568",
   "metadata": {},
   "outputs": [],
   "source": []
  },
  {
   "cell_type": "code",
   "execution_count": null,
   "id": "ed3ff4e8",
   "metadata": {},
   "outputs": [],
   "source": []
  }
 ],
 "metadata": {
  "kernelspec": {
   "display_name": "Python 3 (ipykernel)",
   "language": "python",
   "name": "python3"
  },
  "language_info": {
   "codemirror_mode": {
    "name": "ipython",
    "version": 3
   },
   "file_extension": ".py",
   "mimetype": "text/x-python",
   "name": "python",
   "nbconvert_exporter": "python",
   "pygments_lexer": "ipython3",
   "version": "3.11.4"
  }
 },
 "nbformat": 4,
 "nbformat_minor": 5
}
