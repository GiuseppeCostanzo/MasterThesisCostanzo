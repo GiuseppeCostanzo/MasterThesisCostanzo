{
 "cells": [
  {
   "cell_type": "code",
   "execution_count": null,
   "id": "aa604604",
   "metadata": {},
   "outputs": [],
   "source": []
  },
  {
   "cell_type": "code",
   "execution_count": null,
   "id": "6d6cd4b7",
   "metadata": {},
   "outputs": [],
   "source": [
    "# Step: - \n",
    "# 1) Prendere in input i valori (nel range), trovare un formato e un modo per salvare in locale un singolo pacchetto.\n",
    "# Rileggere un valore, e inviarlo ad arduino.\n",
    "\n",
    "# 2) Trovare un modo per combinare più pacchetti per creare un movimento, salvare il tutto, e inviare un movimento intero ad\n",
    "# arduino (con i relativi problemi di ritardo) - eventualmente combinare più movimenti insieme\n",
    "\n",
    "# 3) A implementazione finita, creare una GUI finale (non testuale) da utilizzare per lo scopo"
   ]
  },
  {
   "cell_type": "code",
   "execution_count": 1,
   "id": "66941d80",
   "metadata": {},
   "outputs": [],
   "source": [
    "# Libraries\n",
    "import serial  \n",
    "import json"
   ]
  },
  {
   "cell_type": "code",
   "execution_count": 2,
   "id": "01673f69",
   "metadata": {},
   "outputs": [],
   "source": [
    "# Functions\n",
    "\n",
    "# This 2 functions maps an input value (in range 0-100) to the corresponding value on the servo, accordingly to the \n",
    "# configuration on the json file\n",
    "def mapping(thumb_big_value, thumb_little_value, index_finger_value, middle_finger_value, ringPinky_value, forearm_value):\n",
    "    with open(\"config.json\", \"r\") as json_file:\n",
    "    #Load the contents of the JSON file into a Python dictionary\n",
    "        data = json.load(json_file)\n",
    "    \n",
    "    #thumb - big servo\n",
    "    thumb_big = data[\"thumb_big\"]\n",
    "    \n",
    "    #thumb - little servo\n",
    "    thumb_little = data[\"thumb_little\"]\n",
    "    \n",
    "    #index_finger servo\n",
    "    index_finger = data[\"index_finger\"]\n",
    "\n",
    "    #middle_finger servo\n",
    "    middle_finger = data[\"middle_finger\"]\n",
    " \n",
    "    #ring_finger servo\n",
    "    ring_pinky = data[\"ring_pinky\"]\n",
    "  \n",
    "    #forearm servo\n",
    "    forearm = data[\"forearm\"]\n",
    "\n",
    "    #All inputs\n",
    "    input_values = [thumb_big_value, thumb_little_value, index_finger_value, middle_finger_value, ringPinky_value, forearm_value]\n",
    "    #All range\n",
    "    fingers_data = [thumb_big, thumb_little, index_finger, middle_finger, ring_pinky,forearm]\n",
    "    fingers_data_mapped = []\n",
    "    i = 0\n",
    "    for single_finger in fingers_data:\n",
    "        start = single_finger[\"range_from\"]\n",
    "        stop = single_finger[\"range_to\"]\n",
    "        #print(single_finger)\n",
    "        fingers_data_mapped.append(calculus(input_values[i],start,stop))\n",
    "        i = i+1\n",
    "        \n",
    "    return fingers_data_mapped\n",
    "        \n",
    "        \n",
    "        \n",
    "def calculus(val,start,stop):\n",
    "    if start==0:\n",
    "        return int((val/100)*stop)\n",
    "    else:\n",
    "        new_stop = stop - start\n",
    "        return int(((val/100)*new_stop)+start)  "
   ]
  },
  {
   "cell_type": "code",
   "execution_count": 4,
   "id": "e3ffc07c",
   "metadata": {},
   "outputs": [
    {
     "name": "stdout",
     "output_type": "stream",
     "text": [
      "thumb value (0-100): 5\n",
      "index_finger value (0-100): 5\n",
      "middle_finger value (0-100): 5\n",
      "ring_finger value (0-100): 5\n",
      "pinky value (0-100): 5\n",
      "forearm value (0-100): 5\n"
     ]
    },
    {
     "ename": "KeyError",
     "evalue": "'thumb'",
     "output_type": "error",
     "traceback": [
      "\u001b[1;31m---------------------------------------------------------------------------\u001b[0m",
      "\u001b[1;31mKeyError\u001b[0m                                  Traceback (most recent call last)",
      "Cell \u001b[1;32mIn[4], line 59\u001b[0m\n\u001b[0;32m     56\u001b[0m     \u001b[38;5;28;01melse\u001b[39;00m:\n\u001b[0;32m     57\u001b[0m         \u001b[38;5;28;01mbreak\u001b[39;00m       \n\u001b[1;32m---> 59\u001b[0m fingers_data_mapped \u001b[38;5;241m=\u001b[39m mapping(thumb_command,index_command,middle_finger_command,ring_finger_command,\n\u001b[0;32m     60\u001b[0m                                            pinky_command,forearm_command)\n",
      "Cell \u001b[1;32mIn[2], line 11\u001b[0m, in \u001b[0;36mmapping\u001b[1;34m(thumb_value, index_finger_value, middle_finger_value, ring_finger_value, pinky_value, forearm_value)\u001b[0m\n\u001b[0;32m      8\u001b[0m     data \u001b[38;5;241m=\u001b[39m json\u001b[38;5;241m.\u001b[39mload(json_file)\n\u001b[0;32m     10\u001b[0m \u001b[38;5;66;03m#thumb servo\u001b[39;00m\n\u001b[1;32m---> 11\u001b[0m thumb \u001b[38;5;241m=\u001b[39m data[\u001b[38;5;124m\"\u001b[39m\u001b[38;5;124mthumb\u001b[39m\u001b[38;5;124m\"\u001b[39m]\n\u001b[0;32m     13\u001b[0m \u001b[38;5;66;03m#index_finger servo\u001b[39;00m\n\u001b[0;32m     14\u001b[0m index_finger \u001b[38;5;241m=\u001b[39m data[\u001b[38;5;124m\"\u001b[39m\u001b[38;5;124mindex_finger\u001b[39m\u001b[38;5;124m\"\u001b[39m]\n",
      "\u001b[1;31mKeyError\u001b[0m: 'thumb'"
     ]
    }
   ],
   "source": [
    "#usbport = 'COM7'\n",
    "#arduino = serial.Serial(usbport, baudrate=9600, timeout=.1)   \n",
    "\n",
    "#Default values\n",
    "thumb_big_command = 0\n",
    "thumb_little_command = 0\n",
    "index_command = 0\n",
    "middle_finger_command = 0\n",
    "ring_pinky_command = 0\n",
    "forearm_command = 0\n",
    "\n",
    "while True:\n",
    "    thumb_big_command = int(input (\"thumb value - big servo (0-100): \"))\n",
    "    if(thumb_command<0 or thumb_command>100): \n",
    "        print(\"Invalid value\")\n",
    "    else:\n",
    "        break\n",
    "\n",
    "while True:\n",
    "    thumb_little_command = int(input (\"thumb value - little servo (0-100): \"))\n",
    "    if(thumb_command<0 or thumb_command>100): \n",
    "        print(\"Invalid value\")\n",
    "    else:\n",
    "        break\n",
    "\n",
    "#print(str(arduino.readline()))             \n",
    "while True:\n",
    "    index_command = int(input (\"index_finger value (0-100): \"))\n",
    "    if(index_command<0 or index_command>100): \n",
    "        print(\"Invalid value\")\n",
    "    else:\n",
    "        break\n",
    "        \n",
    "#print(str(arduino.readline()))                \n",
    "while True:\n",
    "    middle_finger_command = int(input (\"middle_finger value (0-100): \"))\n",
    "    if(middle_finger_command<0 or middle_finger_command>100): \n",
    "        print(\"Invalid value\")\n",
    "    else:\n",
    "        break\n",
    "\n",
    "#print(str(arduino.readline()))\n",
    "while True:\n",
    "    ring_finger_command = int(input (\"ring and pinky values (0-100): \"))\n",
    "    if(ring_finger_command<0 or ring_finger_command>100): \n",
    "        print(\"Invalid value\")\n",
    "    else:\n",
    "        break\n",
    "        \n",
    "#print(str(arduino.readline()))        \n",
    "while True:\n",
    "    forearm_command = int(input (\"forearm value (0-100): \"))\n",
    "    if(forearm_command<0 or forearm_command>100): \n",
    "        print(\"Invalid value\")\n",
    "    else:\n",
    "        break       \n",
    "             \n",
    "fingers_data_mapped = mapping(thumb_big_command, thumb_little_command, index_command, middle_finger_command, ring_pinky_command,\n",
    "                            forearm_command)\n",
    "    \n",
    "# Send values to arduino(*)"
   ]
  },
  {
   "cell_type": "code",
   "execution_count": null,
   "id": "c02827f6",
   "metadata": {},
   "outputs": [],
   "source": [
    "fingers_data_mapped"
   ]
  },
  {
   "cell_type": "code",
   "execution_count": null,
   "id": "d7781a63",
   "metadata": {},
   "outputs": [],
   "source": []
  },
  {
   "cell_type": "code",
   "execution_count": null,
   "id": "50f9774d",
   "metadata": {},
   "outputs": [],
   "source": []
  },
  {
   "cell_type": "code",
   "execution_count": null,
   "id": "199ce4c9",
   "metadata": {},
   "outputs": [],
   "source": []
  },
  {
   "cell_type": "code",
   "execution_count": null,
   "id": "43414b34",
   "metadata": {},
   "outputs": [],
   "source": []
  },
  {
   "cell_type": "code",
   "execution_count": null,
   "id": "f8d0c349",
   "metadata": {},
   "outputs": [],
   "source": []
  },
  {
   "cell_type": "code",
   "execution_count": null,
   "id": "a8d0e477",
   "metadata": {},
   "outputs": [],
   "source": []
  },
  {
   "cell_type": "code",
   "execution_count": null,
   "id": "b2e98f17",
   "metadata": {},
   "outputs": [],
   "source": []
  },
  {
   "cell_type": "code",
   "execution_count": null,
   "id": "0c1f5b16",
   "metadata": {},
   "outputs": [],
   "source": []
  },
  {
   "cell_type": "code",
   "execution_count": null,
   "id": "214f6506",
   "metadata": {},
   "outputs": [],
   "source": []
  },
  {
   "cell_type": "code",
   "execution_count": null,
   "id": "beca057f",
   "metadata": {},
   "outputs": [],
   "source": []
  }
 ],
 "metadata": {
  "kernelspec": {
   "display_name": "Python 3 (ipykernel)",
   "language": "python",
   "name": "python3"
  },
  "language_info": {
   "codemirror_mode": {
    "name": "ipython",
    "version": 3
   },
   "file_extension": ".py",
   "mimetype": "text/x-python",
   "name": "python",
   "nbconvert_exporter": "python",
   "pygments_lexer": "ipython3",
   "version": "3.11.4"
  }
 },
 "nbformat": 4,
 "nbformat_minor": 5
}
