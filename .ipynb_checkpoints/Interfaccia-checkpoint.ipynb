{
 "cells": [
  {
   "cell_type": "code",
   "execution_count": null,
   "id": "0452cfb8",
   "metadata": {},
   "outputs": [],
   "source": [
    "# Step: - \n",
    "# 1) Prendere in input i valori (nel range), trovare un formato e un modo per salvare in locale un singolo pacchetto.\n",
    "# Rileggere un valore, e inviarlo ad arduino.\n",
    "\n",
    "# 2) Trovare un modo per combinare più pacchetti per creare un movimento, salvare il tutto, e inviare un movimento intero ad\n",
    "# arduino (con i relativi problemi di ritardo) - eventualmente combinare più movimenti insieme\n",
    "\n",
    "# 3) A implementazione finita, creare una GUI finale (non testuale) da utilizzare per lo scopo"
   ]
  },
  {
   "cell_type": "code",
   "execution_count": 5,
   "id": "df25e2cd",
   "metadata": {},
   "outputs": [],
   "source": [
    "# Libraries\n",
    "import serial  \n",
    "import json\n",
    "import os"
   ]
  },
  {
   "cell_type": "code",
   "execution_count": 6,
   "id": "10798a56",
   "metadata": {},
   "outputs": [],
   "source": [
    "# Functions\n",
    "\n",
    "# This 2 functions maps an input value (in range 0-100) to the corresponding value on the servo, accordingly to the \n",
    "# configuration on the json file\n",
    "def mapping(thumb_big_value, thumb_little_value, index_finger_value, middle_finger_value, ringPinky_value, forearm_value):\n",
    "    with open(\"config.json\", \"r\") as json_file:\n",
    "    #Load the contents of the JSON file into a Python dictionary\n",
    "        data = json.load(json_file)\n",
    "    \n",
    "    #thumb - big servo\n",
    "    thumb_big = data[\"thumb_big\"]\n",
    "    \n",
    "    #thumb - little servo\n",
    "    thumb_little = data[\"thumb_little\"]\n",
    "    \n",
    "    #index_finger servo\n",
    "    index_finger = data[\"index_finger\"]\n",
    "\n",
    "    #middle_finger servo\n",
    "    middle_finger = data[\"middle_finger\"]\n",
    " \n",
    "    #ring_finger servo\n",
    "    ring_pinky = data[\"ring_pinky\"]\n",
    "  \n",
    "    #forearm servo\n",
    "    forearm = data[\"forearm\"]\n",
    "\n",
    "    #All inputs\n",
    "    input_values = [thumb_big_value, thumb_little_value, index_finger_value, middle_finger_value, ringPinky_value, forearm_value]\n",
    "    #All range\n",
    "    fingers_data = [thumb_big, thumb_little, index_finger, middle_finger, ring_pinky,forearm]\n",
    "    fingers_data_mapped = []\n",
    "    i = 0\n",
    "    for single_finger in fingers_data:\n",
    "        start = single_finger[\"range_from\"]\n",
    "        stop = single_finger[\"range_to\"]\n",
    "        #print(single_finger)\n",
    "        fingers_data_mapped.append(calculus(input_values[i],start,stop))\n",
    "        i = i+1\n",
    "        \n",
    "    return fingers_data_mapped\n",
    "        \n",
    "def calculus(val,start,stop):\n",
    "    if start==0:\n",
    "        return int((val/100)*stop)\n",
    "    else:\n",
    "        new_stop = stop - start\n",
    "        return int(((val/100)*new_stop)+start)  "
   ]
  },
  {
   "cell_type": "code",
   "execution_count": 21,
   "id": "401aa7b5",
   "metadata": {},
   "outputs": [],
   "source": [
    "#funzione per salvare un pacchetto o un movimento\n",
    "\n",
    "#Struttura di salvataggio: thumb_big, thumb_little, index, middle, ringPinky, forearm\n",
    "# movement deve essere una list di list (matrice)\n",
    "def save_movement(name, movement):\n",
    "    \n",
    "    # Carica i dati esistenti dal file JSON se esiste\n",
    "    # Se il file json non esiste, lo crea e ci aggiunge il nuovo movimento\n",
    "    dati = {}\n",
    "    if os.path.exists(\"movements.json\"):\n",
    "        #Se il file esiste, apro il file\n",
    "        with open(\"movements.json\", 'r') as file_json:\n",
    "            dati = json.load(file_json)\n",
    "            \n",
    "        # Verifica se il nome è già presente nei dati\n",
    "        if name in dati:\n",
    "            print(f\"Un movimento con il nome '{name}' esiste già. L'aggiunta verrà annullata\")\n",
    "        else:\n",
    "            # Aggiungi la nuova matrice ai dati\n",
    "            dati[name] = movement\n",
    "\n",
    "            # Salva il dizionario aggiornato in formato JSON nel file specificato\n",
    "            with open(\"movements.json\", \"w\") as json_file:\n",
    "                json.dump(dati, json_file)\n",
    "                print(f\"Movimento '{name}' aggiunto con successo al file\")\n",
    "    else:\n",
    "        dati[name] = movement\n",
    "        with open(\"movements.json\", \"w\") as json_file:\n",
    "            json.dump(dati, json_file)\n",
    "            print(f\"Movimento '{name}' aggiunto con successo al file\")\n"
   ]
  },
  {
   "cell_type": "code",
   "execution_count": null,
   "id": "059ef1e3",
   "metadata": {},
   "outputs": [],
   "source": []
  },
  {
   "cell_type": "code",
   "execution_count": 23,
   "id": "891a5c57",
   "metadata": {},
   "outputs": [
    {
     "name": "stdout",
     "output_type": "stream",
     "text": [
      "thumb value - big servo (0-100): 5\n",
      "thumb value - little servo (0-100): 5\n",
      "index_finger value (0-100): 5\n",
      "middle_finger value (0-100): 5\n",
      "ring and pinky values (0-100): 5\n",
      "forearm value (0-100): 5\n"
     ]
    }
   ],
   "source": [
    "#usbport = 'COM7'\n",
    "#arduino = serial.Serial(usbport, baudrate=9600, timeout=.1)   \n",
    "\n",
    "#Default values\n",
    "thumb_big_command = 0\n",
    "thumb_little_command = 0\n",
    "index_command = 0\n",
    "middle_finger_command = 0\n",
    "ring_pinky_command = 0\n",
    "forearm_command = 0\n",
    "\n",
    "while True:\n",
    "    thumb_big_command = int(input (\"thumb value - big servo (0-100): \"))\n",
    "    if(thumb_command<0 or thumb_command>100): \n",
    "        print(\"Invalid value\")\n",
    "    else:\n",
    "        break\n",
    "\n",
    "while True:\n",
    "    thumb_little_command = int(input (\"thumb value - little servo (0-100): \"))\n",
    "    if(thumb_command<0 or thumb_command>100): \n",
    "        print(\"Invalid value\")\n",
    "    else:\n",
    "        break\n",
    "\n",
    "#print(str(arduino.readline()))             \n",
    "while True:\n",
    "    index_command = int(input (\"index_finger value (0-100): \"))\n",
    "    if(index_command<0 or index_command>100): \n",
    "        print(\"Invalid value\")\n",
    "    else:\n",
    "        break\n",
    "        \n",
    "#print(str(arduino.readline()))                \n",
    "while True:\n",
    "    middle_finger_command = int(input (\"middle_finger value (0-100): \"))\n",
    "    if(middle_finger_command<0 or middle_finger_command>100): \n",
    "        print(\"Invalid value\")\n",
    "    else:\n",
    "        break\n",
    "\n",
    "#print(str(arduino.readline()))\n",
    "while True:\n",
    "    ring_pinky_command = int(input (\"ring and pinky values (0-100): \"))\n",
    "    if(ring_pinky_command<0 or ring_pinky_command>100): \n",
    "        print(\"Invalid value\")\n",
    "    else:\n",
    "        break\n",
    "        \n",
    "#print(str(arduino.readline()))        \n",
    "while True:\n",
    "    forearm_command = int(input (\"forearm value (0-100): \"))\n",
    "    if(forearm_command<0 or forearm_command>100): \n",
    "        print(\"Invalid value\")\n",
    "    else:\n",
    "        break       \n",
    "             \n",
    "fingers_data_mapped = mapping(thumb_big_command, thumb_little_command, index_command, middle_finger_command, ring_pinky_command,\n",
    "                            forearm_command)\n",
    "    \n",
    "# Send values to arduino(*)"
   ]
  },
  {
   "cell_type": "code",
   "execution_count": 24,
   "id": "649b9626",
   "metadata": {},
   "outputs": [
    {
     "data": {
      "text/plain": [
       "[3, 38, 8, 9, 7, 9]"
      ]
     },
     "execution_count": 24,
     "metadata": {},
     "output_type": "execute_result"
    }
   ],
   "source": [
    "fingers_data_mapped"
   ]
  },
  {
   "cell_type": "code",
   "execution_count": null,
   "id": "ac694d38",
   "metadata": {},
   "outputs": [],
   "source": [
    "\n"
   ]
  },
  {
   "cell_type": "code",
   "execution_count": null,
   "id": "62fa9013",
   "metadata": {},
   "outputs": [],
   "source": []
  },
  {
   "cell_type": "code",
   "execution_count": null,
   "id": "9c0f7f8e",
   "metadata": {},
   "outputs": [],
   "source": []
  },
  {
   "cell_type": "code",
   "execution_count": null,
   "id": "35231c8c",
   "metadata": {},
   "outputs": [],
   "source": [
    "\n",
    "\n"
   ]
  },
  {
   "cell_type": "code",
   "execution_count": null,
   "id": "5c79ae30",
   "metadata": {},
   "outputs": [],
   "source": []
  },
  {
   "cell_type": "code",
   "execution_count": null,
   "id": "47b9964d",
   "metadata": {},
   "outputs": [],
   "source": []
  },
  {
   "cell_type": "code",
   "execution_count": null,
   "id": "b47e832a",
   "metadata": {},
   "outputs": [],
   "source": []
  },
  {
   "cell_type": "code",
   "execution_count": null,
   "id": "10f43b07",
   "metadata": {},
   "outputs": [],
   "source": []
  },
  {
   "cell_type": "code",
   "execution_count": null,
   "id": "ad5f66b7",
   "metadata": {},
   "outputs": [],
   "source": []
  },
  {
   "cell_type": "code",
   "execution_count": null,
   "id": "942f354f",
   "metadata": {},
   "outputs": [],
   "source": []
  }
 ],
 "metadata": {
  "kernelspec": {
   "display_name": "Python 3 (ipykernel)",
   "language": "python",
   "name": "python3"
  },
  "language_info": {
   "codemirror_mode": {
    "name": "ipython",
    "version": 3
   },
   "file_extension": ".py",
   "mimetype": "text/x-python",
   "name": "python",
   "nbconvert_exporter": "python",
   "pygments_lexer": "ipython3",
   "version": "3.11.4"
  }
 },
 "nbformat": 4,
 "nbformat_minor": 5
}
