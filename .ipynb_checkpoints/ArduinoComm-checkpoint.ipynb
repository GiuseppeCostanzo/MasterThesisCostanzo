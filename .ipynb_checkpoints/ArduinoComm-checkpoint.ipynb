{
 "cells": [
  {
   "cell_type": "code",
   "execution_count": 1,
   "id": "48651617",
   "metadata": {},
   "outputs": [],
   "source": [
    "# Library\n",
    "import serial  \n",
    "import json"
   ]
  },
  {
   "cell_type": "code",
   "execution_count": 2,
   "id": "fb23448c",
   "metadata": {},
   "outputs": [],
   "source": [
    "def mapping(val_1):\n",
    "    with open(\"config.json\", \"r\") as json_file:\n",
    "    Load the contents of the JSON file into a Python dictionary\n",
    "        data = json.load(json_file)\n",
    "    \n",
    "    #Servo1\n",
    "    servo1 = data[\"Servo1\"]\n",
    "    start = servo1[\"range_from\"]\n",
    "    stop = servo1[\"range_to\"]\n",
    "    \n",
    "    if start==0:\n",
    "        return int((val_1/100)*stop)\n",
    "    else:\n",
    "        new_stop = stop - start\n",
    "        return int(((val_1/100)*new_stop)+start)  "
   ]
  },
  {
   "cell_type": "code",
   "execution_count": 3,
   "id": "ac588156",
   "metadata": {},
   "outputs": [
    {
     "name": "stdout",
     "output_type": "stream",
     "text": [
      "Insert value (0-100): 0\n",
      "Insert value (0-100): 100\n",
      "Insert value (0-100): 50\n"
     ]
    },
    {
     "ename": "KeyboardInterrupt",
     "evalue": "Interrupted by user",
     "output_type": "error",
     "traceback": [
      "\u001b[1;31m---------------------------------------------------------------------------\u001b[0m",
      "\u001b[1;31mKeyboardInterrupt\u001b[0m                         Traceback (most recent call last)",
      "Cell \u001b[1;32mIn[3], line 5\u001b[0m\n\u001b[0;32m      2\u001b[0m arduino \u001b[38;5;241m=\u001b[39m serial\u001b[38;5;241m.\u001b[39mSerial(usbport, baudrate\u001b[38;5;241m=\u001b[39m\u001b[38;5;241m9600\u001b[39m, timeout\u001b[38;5;241m=\u001b[39m\u001b[38;5;241m.1\u001b[39m)   \n\u001b[0;32m      3\u001b[0m \u001b[38;5;28;01mwhile\u001b[39;00m \u001b[38;5;28;01mTrue\u001b[39;00m: \n\u001b[0;32m      4\u001b[0m         \u001b[38;5;66;03m#input utente (0-100)\u001b[39;00m\n\u001b[1;32m----> 5\u001b[0m         command \u001b[38;5;241m=\u001b[39m \u001b[38;5;28mint\u001b[39m(\u001b[38;5;28minput\u001b[39m (\u001b[38;5;124m\"\u001b[39m\u001b[38;5;124mInsert value (0-100): \u001b[39m\u001b[38;5;124m\"\u001b[39m))\n\u001b[0;32m      6\u001b[0m         \u001b[38;5;28;01mif\u001b[39;00m(command\u001b[38;5;241m<\u001b[39m\u001b[38;5;241m0\u001b[39m \u001b[38;5;129;01mor\u001b[39;00m command\u001b[38;5;241m>\u001b[39m\u001b[38;5;241m100\u001b[39m): \n\u001b[0;32m      7\u001b[0m             \u001b[38;5;28mprint\u001b[39m(\u001b[38;5;124m\"\u001b[39m\u001b[38;5;124mInvalid value\u001b[39m\u001b[38;5;124m\"\u001b[39m)\n",
      "File \u001b[1;32m~\\anaconda3\\Lib\\site-packages\\ipykernel\\kernelbase.py:1202\u001b[0m, in \u001b[0;36mKernel.raw_input\u001b[1;34m(self, prompt)\u001b[0m\n\u001b[0;32m   1200\u001b[0m     msg \u001b[38;5;241m=\u001b[39m \u001b[38;5;124m\"\u001b[39m\u001b[38;5;124mraw_input was called, but this frontend does not support input requests.\u001b[39m\u001b[38;5;124m\"\u001b[39m\n\u001b[0;32m   1201\u001b[0m     \u001b[38;5;28;01mraise\u001b[39;00m StdinNotImplementedError(msg)\n\u001b[1;32m-> 1202\u001b[0m \u001b[38;5;28;01mreturn\u001b[39;00m \u001b[38;5;28mself\u001b[39m\u001b[38;5;241m.\u001b[39m_input_request(\n\u001b[0;32m   1203\u001b[0m     \u001b[38;5;28mstr\u001b[39m(prompt),\n\u001b[0;32m   1204\u001b[0m     \u001b[38;5;28mself\u001b[39m\u001b[38;5;241m.\u001b[39m_parent_ident[\u001b[38;5;124m\"\u001b[39m\u001b[38;5;124mshell\u001b[39m\u001b[38;5;124m\"\u001b[39m],\n\u001b[0;32m   1205\u001b[0m     \u001b[38;5;28mself\u001b[39m\u001b[38;5;241m.\u001b[39mget_parent(\u001b[38;5;124m\"\u001b[39m\u001b[38;5;124mshell\u001b[39m\u001b[38;5;124m\"\u001b[39m),\n\u001b[0;32m   1206\u001b[0m     password\u001b[38;5;241m=\u001b[39m\u001b[38;5;28;01mFalse\u001b[39;00m,\n\u001b[0;32m   1207\u001b[0m )\n",
      "File \u001b[1;32m~\\anaconda3\\Lib\\site-packages\\ipykernel\\kernelbase.py:1245\u001b[0m, in \u001b[0;36mKernel._input_request\u001b[1;34m(self, prompt, ident, parent, password)\u001b[0m\n\u001b[0;32m   1242\u001b[0m \u001b[38;5;28;01mexcept\u001b[39;00m \u001b[38;5;167;01mKeyboardInterrupt\u001b[39;00m:\n\u001b[0;32m   1243\u001b[0m     \u001b[38;5;66;03m# re-raise KeyboardInterrupt, to truncate traceback\u001b[39;00m\n\u001b[0;32m   1244\u001b[0m     msg \u001b[38;5;241m=\u001b[39m \u001b[38;5;124m\"\u001b[39m\u001b[38;5;124mInterrupted by user\u001b[39m\u001b[38;5;124m\"\u001b[39m\n\u001b[1;32m-> 1245\u001b[0m     \u001b[38;5;28;01mraise\u001b[39;00m \u001b[38;5;167;01mKeyboardInterrupt\u001b[39;00m(msg) \u001b[38;5;28;01mfrom\u001b[39;00m \u001b[38;5;28;01mNone\u001b[39;00m\n\u001b[0;32m   1246\u001b[0m \u001b[38;5;28;01mexcept\u001b[39;00m \u001b[38;5;167;01mException\u001b[39;00m:\n\u001b[0;32m   1247\u001b[0m     \u001b[38;5;28mself\u001b[39m\u001b[38;5;241m.\u001b[39mlog\u001b[38;5;241m.\u001b[39mwarning(\u001b[38;5;124m\"\u001b[39m\u001b[38;5;124mInvalid Message:\u001b[39m\u001b[38;5;124m\"\u001b[39m, exc_info\u001b[38;5;241m=\u001b[39m\u001b[38;5;28;01mTrue\u001b[39;00m)\n",
      "\u001b[1;31mKeyboardInterrupt\u001b[0m: Interrupted by user"
     ]
    }
   ],
   "source": [
    "usbport = 'COM6'\n",
    "arduino = serial.Serial(usbport, baudrate=9600, timeout=.1)   \n",
    "while True: \n",
    "        #input utente (0-100)\n",
    "        command = int(input (\"Insert value (0-100): \"))\n",
    "        if(command<0 or command>100): \n",
    "            print(\"Invalid value\")\n",
    "        else:\n",
    "            #print(mapping(command2))\n",
    "            comm = bytes(str(mapping(command)),'utf-8')\n",
    "            arduino.write(comm)                          # write position to serial port\n",
    "            #reachedPos = str(arduino.readline())            # read serial port for arduino echo\n",
    "            #print (reachedPos)\n",
    "        "
   ]
  },
  {
   "cell_type": "code",
   "execution_count": null,
   "id": "881a37a3-b751-4682-b6b4-38e70d0c0d45",
   "metadata": {},
   "outputs": [],
   "source": []
  },
  {
   "cell_type": "code",
   "execution_count": null,
   "id": "1afe83ad-beb0-47ff-a8a3-422478c86328",
   "metadata": {},
   "outputs": [],
   "source": []
  },
  {
   "cell_type": "code",
   "execution_count": null,
   "id": "af01078e-f6ab-4cac-9342-305258863d76",
   "metadata": {},
   "outputs": [],
   "source": []
  },
  {
   "cell_type": "code",
   "execution_count": 4,
   "id": "16d43491-abbd-4ee9-b667-3412388cb519",
   "metadata": {},
   "outputs": [],
   "source": [
    "import json\n",
    "\n",
    "# File di configurazione\n",
    "config = {\n",
    "    \"Servo1\": {\n",
    "        \"range_from\": 50,\n",
    "        \"range_to\": 150\n",
    "    },\n",
    "    \"Servo2\": {\n",
    "        \"range_from\": 0,\n",
    "        \"range_to\": 120\n",
    "    }\n",
    "}\n",
    "\n",
    "# Apertura del file in modalità scrittura\n",
    "with open(\"config.json\", \"w\") as json_file:\n",
    "    # Scrivi i dati nel file JSON\n",
    "    json.dump(config, json_file)\n"
   ]
  },
  {
   "cell_type": "code",
   "execution_count": null,
   "id": "f89f1640",
   "metadata": {},
   "outputs": [],
   "source": []
  }
 ],
 "metadata": {
  "kernelspec": {
   "display_name": "Python 3 (ipykernel)",
   "language": "python",
   "name": "python3"
  },
  "language_info": {
   "codemirror_mode": {
    "name": "ipython",
    "version": 3
   },
   "file_extension": ".py",
   "mimetype": "text/x-python",
   "name": "python",
   "nbconvert_exporter": "python",
   "pygments_lexer": "ipython3",
   "version": "3.11.4"
  }
 },
 "nbformat": 4,
 "nbformat_minor": 5
}
