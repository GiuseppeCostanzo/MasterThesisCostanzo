{
 "cells": [
  {
   "cell_type": "code",
   "execution_count": null,
   "id": "10eca4ec",
   "metadata": {},
   "outputs": [],
   "source": []
  },
  {
   "cell_type": "code",
   "execution_count": 55,
   "id": "7885630d",
   "metadata": {},
   "outputs": [],
   "source": [
    "# Ossservazioni: np.round() arrotonda al valore più vicino\n",
    "# np.zeros(shape, type) ritorna un array di zeri "
   ]
  },
  {
   "cell_type": "code",
   "execution_count": null,
   "id": "c1ddd808",
   "metadata": {},
   "outputs": [],
   "source": []
  },
  {
   "cell_type": "code",
   "execution_count": null,
   "id": "ec6bfd9a",
   "metadata": {},
   "outputs": [],
   "source": []
  },
  {
   "cell_type": "code",
   "execution_count": null,
   "id": "fc9dd31e",
   "metadata": {},
   "outputs": [],
   "source": []
  },
  {
   "cell_type": "code",
   "execution_count": 23,
   "id": "814bf4d2",
   "metadata": {},
   "outputs": [],
   "source": [
    "from abc import ABC, abstractmethod\n",
    "\n",
    "class Movement(ABC):\n",
    "    def __init__(self, startTime, endTime):\n",
    "        self.startTime = startTime\n",
    "        self.endTime = endTime\n",
    "        #L=(np.round((self.endTime-self.startTime)/deltaT)+1).astype(np.int64)\n",
    "        #self.DiscreteMov=None\n",
    "\n",
    "    @abstractmethod\n",
    "    def discretize(self):\n",
    "        pass"
   ]
  },
  {
   "cell_type": "code",
   "execution_count": 51,
   "id": "bdaed2cc",
   "metadata": {},
   "outputs": [],
   "source": [
    "# deltaT è un parametro non obbligatorio. Se non viene dato in input di default è 70\n",
    "class LinearMovement(Movement):\n",
    "    def __init__(self, startTime, endTime, fromPos, toPos, deltaT=None):\n",
    "        super().__init__(startTime, endTime)\n",
    "        self.fromPos = fromPos\n",
    "        self.toPos = toPos\n",
    "        if deltaT is not None:\n",
    "            self.deltaT = deltaT\n",
    "        else:\n",
    "            self.deltaT=70\n",
    "        \n",
    "    def discretize(self):\n",
    "        # Calcola il numero di intervalli discreti per il set corrente di parametri\n",
    "        L = int(np.round((self.endTime - self.startTime) / deltaT)) + 1\n",
    "\n",
    "        # Genera array di tempi discreti per il set corrente di parametri\n",
    "        tempi_discreti = (np.linspace(self.startTime, self.endTime, L)).astype(np.int64)\n",
    "\n",
    "        # Interpola le posizioni dei servomotori per il set corrente di parametri\n",
    "        posizioni_discrete = (np.linspace(fromPos[0], toPos[0], L)).astype(np.int64)\n",
    "\n",
    "        # Crea una matrice per memorizzare i valori discretizzati per il set corrente di parametri\n",
    "        matrice_discretizzata = np.vstack((posizioni_discrete, tempi_discreti))\n",
    "\n",
    "        # Interpola le posizioni dei servomotori per il set corrente di parametri\n",
    "        for i in range(1, 5):\n",
    "            nuove_posizioni = (np.linspace(fromPos[i], toPos[i], L)).astype(np.int64)\n",
    "\n",
    "            # Crea una matrice per memorizzare i valori discretizzati per il set corrente di parametri\n",
    "            matrice_discretizzata = np.vstack((nuove_posizioni,matrice_discretizzata))\n",
    "\n",
    "        return matrice_discretizzata"
   ]
  },
  {
   "cell_type": "code",
   "execution_count": 52,
   "id": "4da349f0",
   "metadata": {},
   "outputs": [],
   "source": [
    "a = LinearMovement(50,150,20,45,50)"
   ]
  },
  {
   "cell_type": "code",
   "execution_count": 54,
   "id": "9bdac9b0",
   "metadata": {},
   "outputs": [
    {
     "ename": "TypeError",
     "evalue": "object of type 'int' has no len()",
     "output_type": "error",
     "traceback": [
      "\u001b[1;31m---------------------------------------------------------------------------\u001b[0m",
      "\u001b[1;31mTypeError\u001b[0m                                 Traceback (most recent call last)",
      "Cell \u001b[1;32mIn[54], line 1\u001b[0m\n\u001b[1;32m----> 1\u001b[0m a\u001b[38;5;241m.\u001b[39mdiscretize()\n",
      "Cell \u001b[1;32mIn[51], line 14\u001b[0m, in \u001b[0;36mLinearMovement.discretize\u001b[1;34m(self)\u001b[0m\n\u001b[0;32m     12\u001b[0m \u001b[38;5;28;01mdef\u001b[39;00m \u001b[38;5;21mdiscretize\u001b[39m(\u001b[38;5;28mself\u001b[39m):\n\u001b[0;32m     13\u001b[0m     L\u001b[38;5;241m=\u001b[39m(np\u001b[38;5;241m.\u001b[39mround((\u001b[38;5;28mself\u001b[39m\u001b[38;5;241m.\u001b[39mendTime\u001b[38;5;241m-\u001b[39m\u001b[38;5;28mself\u001b[39m\u001b[38;5;241m.\u001b[39mstartTime)\u001b[38;5;241m/\u001b[39m\u001b[38;5;28mself\u001b[39m\u001b[38;5;241m.\u001b[39mdeltaT)\u001b[38;5;241m+\u001b[39m\u001b[38;5;241m1\u001b[39m)\u001b[38;5;241m.\u001b[39mastype(np\u001b[38;5;241m.\u001b[39mint64)\n\u001b[1;32m---> 14\u001b[0m     discreteMov\u001b[38;5;241m=\u001b[39mnp\u001b[38;5;241m.\u001b[39mzeros((L,\u001b[38;5;28mlen\u001b[39m(\u001b[38;5;28mself\u001b[39m\u001b[38;5;241m.\u001b[39mfromPos)))\n\u001b[0;32m     15\u001b[0m     \u001b[38;5;28mprint\u001b[39m(discreteMov)\n",
      "\u001b[1;31mTypeError\u001b[0m: object of type 'int' has no len()"
     ]
    }
   ],
   "source": [
    "a.discretize()"
   ]
  },
  {
   "cell_type": "code",
   "execution_count": null,
   "id": "db73dcdc",
   "metadata": {},
   "outputs": [],
   "source": []
  },
  {
   "cell_type": "code",
   "execution_count": null,
   "id": "45d4b0c8",
   "metadata": {},
   "outputs": [],
   "source": []
  },
  {
   "cell_type": "code",
   "execution_count": null,
   "id": "99b84d2d",
   "metadata": {},
   "outputs": [],
   "source": []
  },
  {
   "cell_type": "code",
   "execution_count": null,
   "id": "9922dc09",
   "metadata": {},
   "outputs": [],
   "source": []
  }
 ],
 "metadata": {
  "kernelspec": {
   "display_name": "Python 3 (ipykernel)",
   "language": "python",
   "name": "python3"
  },
  "language_info": {
   "codemirror_mode": {
    "name": "ipython",
    "version": 3
   },
   "file_extension": ".py",
   "mimetype": "text/x-python",
   "name": "python",
   "nbconvert_exporter": "python",
   "pygments_lexer": "ipython3",
   "version": "3.11.4"
  }
 },
 "nbformat": 4,
 "nbformat_minor": 5
}
