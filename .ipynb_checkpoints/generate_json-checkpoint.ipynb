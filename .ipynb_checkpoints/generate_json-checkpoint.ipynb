{
 "cells": [
  {
   "cell_type": "code",
   "execution_count": null,
   "id": "d966656c",
   "metadata": {},
   "outputs": [],
   "source": [
    "import json\n",
    "\n",
    "#thumb configureted eff.\n",
    "\n",
    "\n",
    "# Configuration file (do not change)\n",
    "config = {\n",
    "    \"thumb_big\": {#**\n",
    "        \"range_from\": 0,\n",
    "        \"range_to\": 70\n",
    "    },\n",
    "    \"thumb_little\": {#**\n",
    "        \"range_from\": 35,\n",
    "        \"range_to\": 100\n",
    "    },\n",
    "    \"index_finger\": {#**\n",
    "        \"range_from\": 0,\n",
    "        \"range_to\": 160\n",
    "    },\n",
    "    \"middle_finger\": {#**\n",
    "        \"range_from\": 0,\n",
    "        \"range_to\": 180\n",
    "    },\n",
    "    \"ring_pinky\": {#**\n",
    "        \"range_from\": 0,\n",
    "        \"range_to\": 140\n",
    "    },\n",
    "    \"forearm\": {#**\n",
    "        \"range_from\": 0,\n",
    "        \"range_to\": 180\n",
    "    }\n",
    "}\n",
    "\n",
    "# Opening file in write mode\n",
    "with open(\"config.json\", \"w\") as json_file:\n",
    "    # Write data in json file\n",
    "    json.dump(config, json_file)"
   ]
  }
 ],
 "metadata": {
  "kernelspec": {
   "display_name": "Python 3 (ipykernel)",
   "language": "python",
   "name": "python3"
  },
  "language_info": {
   "codemirror_mode": {
    "name": "ipython",
    "version": 3
   },
   "file_extension": ".py",
   "mimetype": "text/x-python",
   "name": "python",
   "nbconvert_exporter": "python",
   "pygments_lexer": "ipython3",
   "version": "3.11.4"
  }
 },
 "nbformat": 4,
 "nbformat_minor": 5
}
