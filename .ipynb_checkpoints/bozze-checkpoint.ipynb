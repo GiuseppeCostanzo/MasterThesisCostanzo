{
 "cells": [
  {
   "cell_type": "code",
   "execution_count": null,
   "id": "0fe1b224",
   "metadata": {},
   "outputs": [],
   "source": []
  },
  {
   "cell_type": "code",
   "execution_count": null,
   "id": "1468910f",
   "metadata": {},
   "outputs": [],
   "source": []
  },
  {
   "cell_type": "code",
   "execution_count": null,
   "id": "6f46583e",
   "metadata": {},
   "outputs": [],
   "source": []
  },
  {
   "cell_type": "code",
   "execution_count": null,
   "id": "fa5cac77",
   "metadata": {},
   "outputs": [],
   "source": []
  },
  {
   "cell_type": "code",
   "execution_count": null,
   "id": "52e75d8a",
   "metadata": {},
   "outputs": [],
   "source": []
  },
  {
   "cell_type": "code",
   "execution_count": null,
   "id": "9ab184df",
   "metadata": {},
   "outputs": [],
   "source": []
  },
  {
   "cell_type": "code",
   "execution_count": null,
   "id": "172b6614",
   "metadata": {},
   "outputs": [],
   "source": []
  },
  {
   "cell_type": "code",
   "execution_count": null,
   "id": "65a59235",
   "metadata": {},
   "outputs": [],
   "source": []
  },
  {
   "cell_type": "code",
   "execution_count": null,
   "id": "37c9e653",
   "metadata": {},
   "outputs": [],
   "source": []
  },
  {
   "cell_type": "code",
   "execution_count": 35,
   "id": "a53b3e5d",
   "metadata": {},
   "outputs": [],
   "source": [
    "import tkinter as tk\n",
    "\n",
    "class GUI(tk.Tk):\n",
    "    def __init__(self):\n",
    "        super().__init__()\n",
    "\n",
    "        self.title(\"Frame 3\")\n",
    "        self.geometry(\"400x300\")\n",
    "\n",
    "        # Creazione del frame 3\n",
    "        self.frame3 = tk.Frame(self)\n",
    "        self.frame3.pack(fill=tk.BOTH, expand=True)\n",
    "\n",
    "        # Lista di coppie label-pulsante (esempio)\n",
    "        label_button_pairs = [(\"Label 1\", \"Pulsante 1\"),\n",
    "                              (\"Label 2\", \"Pulsante 2\"),\n",
    "                              (\"Label 3\", \"Pulsante 3\")]\n",
    "\n",
    "        # Creazione dinamica delle coppie label-pulsante\n",
    "        for index, (label_text, button_text) in enumerate(label_button_pairs):\n",
    "            label = tk.Label(self.frame3, text=label_text)\n",
    "            label.grid(row=index, column=0, padx=10, pady=5)\n",
    "\n",
    "            button = tk.Button(self.frame3, text=button_text)\n",
    "            button.grid(row=index, column=1, padx=10, pady=5)\n",
    "\n",
    "if __name__ == \"__main__\":\n",
    "    app = GUI()\n",
    "    app.mainloop()\n"
   ]
  },
  {
   "cell_type": "code",
   "execution_count": null,
   "id": "bbedcf69",
   "metadata": {},
   "outputs": [],
   "source": []
  }
 ],
 "metadata": {
  "kernelspec": {
   "display_name": "Python 3 (ipykernel)",
   "language": "python",
   "name": "python3"
  },
  "language_info": {
   "codemirror_mode": {
    "name": "ipython",
    "version": 3
   },
   "file_extension": ".py",
   "mimetype": "text/x-python",
   "name": "python",
   "nbconvert_exporter": "python",
   "pygments_lexer": "ipython3",
   "version": "3.11.4"
  }
 },
 "nbformat": 4,
 "nbformat_minor": 5
}
